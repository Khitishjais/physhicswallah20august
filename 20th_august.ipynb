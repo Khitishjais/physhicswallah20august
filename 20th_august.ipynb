{
 "cells": [
  {
   "cell_type": "code",
   "execution_count": 14,
   "id": "4b9d1103-9106-4393-8637-9e35c09970d6",
   "metadata": {},
   "outputs": [
    {
     "name": "stdout",
     "output_type": "stream",
     "text": [
      "aidni etsaman\n"
     ]
    }
   ],
   "source": [
    "## string\n",
    "s1 = \"namaste india\"\n",
    "result = reverse_string('namaste india')\n",
    "print(result)\n",
    "\n",
    "\n"
   ]
  },
  {
   "cell_type": "code",
   "execution_count": 15,
   "id": "98fddad7-ae4a-4794-b37b-9fb48b3ee6f6",
   "metadata": {},
   "outputs": [
    {
     "name": "stdout",
     "output_type": "stream",
     "text": [
      "!dlroW ,olleH\n"
     ]
    }
   ],
   "source": [
    "def reverse_string(input_str):\n",
    "    return input_str[::-1]\n",
    "\n",
    "\n",
    "input_str = \"Hello, World!\"\n",
    "result = reverse_string(input_str)\n",
    "print(result)\n"
   ]
  },
  {
   "cell_type": "code",
   "execution_count": 17,
   "id": "c141a99a-94ec-4d99-a083-dd9080cdda14",
   "metadata": {},
   "outputs": [
    {
     "name": "stdout",
     "output_type": "stream",
     "text": [
      "True\n"
     ]
    }
   ],
   "source": [
    "def is_palindrome(input_str):\n",
    "    return input_str == input_str[::-1]\n",
    "\n",
    "# Example usage:\n",
    "input_str = \"mom\"\n",
    "result = is_palindrome(input_str)\n",
    "print(result)\n"
   ]
  },
  {
   "cell_type": "code",
   "execution_count": 18,
   "id": "1e77084f-7e6d-4d8d-86e8-9121ffd91146",
   "metadata": {},
   "outputs": [
    {
     "name": "stdout",
     "output_type": "stream",
     "text": [
      "HELLO WORLD\n"
     ]
    }
   ],
   "source": [
    "def to_uppercase(input_str):\n",
    "    return input_str.upper()\n",
    "\n",
    "# Example usage:\n",
    "input_str = \"hello world\"\n",
    "result = to_uppercase(input_str)\n",
    "print(result)\n"
   ]
  },
  {
   "cell_type": "code",
   "execution_count": 19,
   "id": "1c672e8e-85e0-44df-981a-0f7f133a3b14",
   "metadata": {},
   "outputs": [
    {
     "name": "stdout",
     "output_type": "stream",
     "text": [
      "3\n"
     ]
    }
   ],
   "source": [
    "def count_vowels(input_str):\n",
    "    vowels = \"aeiouAEIOU\"\n",
    "    return sum(1 for char in input_str if char in vowels)\n",
    "\n",
    "# Example usage:\n",
    "input_str = \"Hello World\"\n",
    "result = count_vowels(input_str)\n",
    "print(result)\n"
   ]
  },
  {
   "cell_type": "code",
   "execution_count": 20,
   "id": "55977c7c-9831-4b09-89e6-84e346108969",
   "metadata": {},
   "outputs": [
    {
     "name": "stdout",
     "output_type": "stream",
     "text": [
      "7\n"
     ]
    }
   ],
   "source": [
    "def count_consonants(input_str):\n",
    "    consonants = \"bcdfghjklmnpqrstvwxyzBCDFGHJKLMNPQRSTVWXYZ\"\n",
    "    return sum(1 for char in input_str if char in consonants)\n",
    "\n",
    "# Example usage:\n",
    "input_str = \"Hello World\"\n",
    "result = count_consonants(input_str)\n",
    "print(result)\n"
   ]
  },
  {
   "cell_type": "code",
   "execution_count": 21,
   "id": "aa5357ee-67cb-400c-b027-263eb1fbae98",
   "metadata": {},
   "outputs": [
    {
     "name": "stdout",
     "output_type": "stream",
     "text": [
      "HelloWorld\n"
     ]
    }
   ],
   "source": [
    "def remove_whitespaces(input_str):\n",
    "    return \"\".join(input_str.split())\n",
    "\n",
    "# Example usage:\n",
    "input_str = \"  Hello   World  \"\n",
    "result = remove_whitespaces(input_str)\n",
    "print(result)\n"
   ]
  },
  {
   "cell_type": "code",
   "execution_count": 22,
   "id": "0f35e330-acea-4153-9b6c-d171ebc536c4",
   "metadata": {},
   "outputs": [
    {
     "name": "stdout",
     "output_type": "stream",
     "text": [
      "11\n"
     ]
    }
   ],
   "source": [
    "def find_length(input_str):\n",
    "    count = 0\n",
    "    for char in input_str:\n",
    "        count += 1\n",
    "    return count\n",
    "\n",
    "# Example usage:\n",
    "input_str = \"Hello World\"\n",
    "result = find_length(input_str)\n",
    "print(result)\n"
   ]
  },
  {
   "cell_type": "code",
   "execution_count": 23,
   "id": "016a074a-edac-4886-a8c8-241e65049849",
   "metadata": {},
   "outputs": [
    {
     "name": "stdout",
     "output_type": "stream",
     "text": [
      "True\n"
     ]
    }
   ],
   "source": [
    "def contains_word(input_str, target_word):\n",
    "    return target_word in input_str\n",
    "\n",
    "# Example usage:\n",
    "input_str = \"Hello World\"\n",
    "target_word = \"World\"\n",
    "result = contains_word(input_str, target_word)\n",
    "print(result)\n"
   ]
  },
  {
   "cell_type": "code",
   "execution_count": 24,
   "id": "86550d93-c3a7-4478-95ca-54b9110e1cc0",
   "metadata": {},
   "outputs": [
    {
     "name": "stdout",
     "output_type": "stream",
     "text": [
      "Hello Universe\n"
     ]
    }
   ],
   "source": [
    "def replace_word(input_str, old_word, new_word):\n",
    "    return input_str.replace(old_word, new_word)\n",
    "\n",
    "# Example usage:\n",
    "input_str = \"Hello World\"\n",
    "old_word = \"World\"\n",
    "new_word = \"Universe\"\n",
    "result = replace_word(input_str, old_word, new_word)\n",
    "print(result)\n"
   ]
  },
  {
   "cell_type": "code",
   "execution_count": 26,
   "id": "695cb8c7-8277-453a-9870-154bfdec469c",
   "metadata": {},
   "outputs": [
    {
     "name": "stdout",
     "output_type": "stream",
     "text": [
      "1\n"
     ]
    }
   ],
   "source": [
    "def count_word_occurrences(input_str, target_word):\n",
    "    words = input_str.split()\n",
    "    return words.count(target_word)\n",
    "\n",
    "# Example usage:\n",
    "input_str = \"Hello World, World is beautiful. Hello Universe.\"\n",
    "target_word = \"World\"\n",
    "result = count_word_occurrences(input_str, target_word)\n",
    "print(result)\n"
   ]
  },
  {
   "cell_type": "code",
   "execution_count": 27,
   "id": "5343c276-c7ef-4069-9f35-41def5afb1b5",
   "metadata": {},
   "outputs": [
    {
     "name": "stdout",
     "output_type": "stream",
     "text": [
      "2\n"
     ]
    }
   ],
   "source": [
    "def find_first_occurrence(input_str, target_word):\n",
    "    words = input_str.split()\n",
    "    try:\n",
    "        return words.index(target_word)\n",
    "    except ValueError:\n",
    "        return -1\n",
    "\n",
    "# Example usage:\n",
    "input_str = \"Hello World, World is beautiful. Hello Universe.\"\n",
    "target_word = \"World\"\n",
    "result = find_first_occurrence(input_str, target_word)\n",
    "print(result)\n"
   ]
  },
  {
   "cell_type": "code",
   "execution_count": 28,
   "id": "774a018b-4254-46b9-88f5-6eea0aa4390a",
   "metadata": {},
   "outputs": [
    {
     "name": "stdout",
     "output_type": "stream",
     "text": [
      "2\n"
     ]
    }
   ],
   "source": [
    "def find_last_occurrence(input_str, target_word):\n",
    "    words = input_str.split()\n",
    "    try:\n",
    "        return len(words) - 1 - words[::-1].index(target_word)\n",
    "    except ValueError:\n",
    "        return -1\n",
    "\n",
    "# Example usage:\n",
    "input_str = \"Hello World, World is beautiful. Hello Universe.\"\n",
    "target_word = \"World\"\n",
    "result = find_last_occurrence(input_str, target_word)\n",
    "print(result)\n"
   ]
  },
  {
   "cell_type": "code",
   "execution_count": 29,
   "id": "e6e08190-00fa-4bdb-9633-11b12a94ddd9",
   "metadata": {},
   "outputs": [
    {
     "name": "stdout",
     "output_type": "stream",
     "text": [
      "['Hello', 'World,', 'World', 'is', 'beautiful.', 'Hello', 'Universe.']\n"
     ]
    }
   ],
   "source": [
    "def split_into_words(input_str):\n",
    "    return input_str.split()\n",
    "\n",
    "# Example usage:\n",
    "input_str = \"Hello World, World is beautiful. Hello Universe.\"\n",
    "result = split_into_words(input_str)\n",
    "print(result)\n"
   ]
  },
  {
   "cell_type": "code",
   "execution_count": 30,
   "id": "281f1914-6be4-4e68-be6c-abc2c2240cd5",
   "metadata": {},
   "outputs": [
    {
     "name": "stdout",
     "output_type": "stream",
     "text": [
      "Hello World, World is beautiful. Hello Universe.\n"
     ]
    }
   ],
   "source": [
    "def join_words(words_list):\n",
    "    return \" \".join(words_list)\n",
    "\n",
    "# Example usage:\n",
    "words_list = [\"Hello\", \"World,\", \"World\", \"is\", \"beautiful.\", \"Hello\", \"Universe.\"]\n",
    "result = join_words(words_list)\n",
    "print(result)\n"
   ]
  },
  {
   "cell_type": "code",
   "execution_count": 31,
   "id": "9751a07d-c3d8-4d94-99ab-d8db14c34201",
   "metadata": {},
   "outputs": [
    {
     "name": "stdout",
     "output_type": "stream",
     "text": [
      "Hello_World,_this_is_a_test.\n"
     ]
    }
   ],
   "source": [
    "def space_to_underscore(input_str):\n",
    "    return input_str.replace(\" \", \"_\")\n",
    "\n",
    "# Example usage:\n",
    "input_str = \"Hello World, this is a test.\"\n",
    "result = space_to_underscore(input_str)\n",
    "print(result)\n"
   ]
  },
  {
   "cell_type": "code",
   "execution_count": 32,
   "id": "63b2bccb-a45a-4f1b-8535-ebc610331f1a",
   "metadata": {},
   "outputs": [
    {
     "name": "stdout",
     "output_type": "stream",
     "text": [
      "True\n"
     ]
    }
   ],
   "source": [
    "def starts_with_word(input_str, start_word):\n",
    "    return input_str.startswith(start_word)\n",
    "\n",
    "# Example usage:\n",
    "input_str = \"Hello World, this is a test.\"\n",
    "start_word = \"Hello\"\n",
    "result = starts_with_word(input_str, start_word)\n",
    "print(result)\n"
   ]
  },
  {
   "cell_type": "code",
   "execution_count": 33,
   "id": "be23b898-a314-486e-8a98-2f5276ce59ba",
   "metadata": {},
   "outputs": [
    {
     "name": "stdout",
     "output_type": "stream",
     "text": [
      "True\n"
     ]
    }
   ],
   "source": [
    "def ends_with_word(input_str, end_word):\n",
    "    return input_str.endswith(end_word)\n",
    "\n",
    "# Example usage:\n",
    "input_str = \"Hello World, this is a test.\"\n",
    "end_word = \"test.\"\n",
    "result = ends_with_word(input_str, end_word)\n",
    "print(result)\n"
   ]
  },
  {
   "cell_type": "code",
   "execution_count": 34,
   "id": "83e5c40d-42fa-41e2-b617-3c58756f4ae6",
   "metadata": {},
   "outputs": [
    {
     "name": "stdout",
     "output_type": "stream",
     "text": [
      "Hello World\n"
     ]
    }
   ],
   "source": [
    "def to_title_case(input_str):\n",
    "    return input_str.title()\n",
    "\n",
    "# Example usage:\n",
    "input_str = \"hello world\"\n",
    "result = to_title_case(input_str)\n",
    "print(result)\n"
   ]
  },
  {
   "cell_type": "code",
   "execution_count": 36,
   "id": "066982e9-32c8-4a1f-9007-5bdd97c5e9f2",
   "metadata": {},
   "outputs": [
    {
     "name": "stdout",
     "output_type": "stream",
     "text": [
      "World,\n"
     ]
    }
   ],
   "source": [
    "def longest_word(input_str):\n",
    "    words = input_str.split()\n",
    "    return max(words, key=len)\n",
    "\n",
    "# Example usage:\n",
    "input_str = \"Hello World, this is a test.\"\n",
    "result = longest_word(input_str)\n",
    "print(result)\n"
   ]
  },
  {
   "cell_type": "code",
   "execution_count": 37,
   "id": "798928eb-5d75-43b1-b213-4a4576d78c4b",
   "metadata": {},
   "outputs": [
    {
     "name": "stdout",
     "output_type": "stream",
     "text": [
      "a\n"
     ]
    }
   ],
   "source": [
    "def shortest_word(input_str):\n",
    "    words = input_str.split()\n",
    "    return min(words, key=len)\n",
    "\n",
    "# Example usage:\n",
    "input_str = \"Hello World, this is a test.\"\n",
    "result = shortest_word(input_str)\n",
    "print(result)\n"
   ]
  },
  {
   "cell_type": "code",
   "execution_count": 38,
   "id": "b364af44-4973-43f1-9b43-dfe400a3c655",
   "metadata": {},
   "outputs": [
    {
     "name": "stdout",
     "output_type": "stream",
     "text": [
      "test. a is this World, Hello\n"
     ]
    }
   ],
   "source": [
    "def reverse_words_order(input_str):\n",
    "    words = input_str.split()\n",
    "    return \" \".join(reversed(words))\n",
    "\n",
    "# Example usage:\n",
    "input_str = \"Hello World, this is a test.\"\n",
    "result = reverse_words_order(input_str)\n",
    "print(result)\n"
   ]
  },
  {
   "cell_type": "code",
   "execution_count": 39,
   "id": "608da9e4-007d-4b89-b442-6365a7f57949",
   "metadata": {},
   "outputs": [
    {
     "name": "stdout",
     "output_type": "stream",
     "text": [
      "True\n"
     ]
    }
   ],
   "source": [
    "def is_alphanumeric(input_str):\n",
    "    return input_str.isalnum()\n",
    "\n",
    "# Example usage:\n",
    "input_str = \"Hello123\"\n",
    "result = is_alphanumeric(input_str)\n",
    "print(result)\n"
   ]
  },
  {
   "cell_type": "code",
   "execution_count": 40,
   "id": "f1c621fe-604c-4736-a87f-24fbe92de6d0",
   "metadata": {},
   "outputs": [
    {
     "name": "stdout",
     "output_type": "stream",
     "text": [
      "123\n"
     ]
    }
   ],
   "source": [
    "def extract_digits(input_str):\n",
    "    return \"\".join(char for char in input_str if char.isdigit())\n",
    "\n",
    "# Example usage:\n",
    "input_str = \"Hello123\"\n",
    "result = extract_digits(input_str)\n",
    "print(result)\n"
   ]
  },
  {
   "cell_type": "code",
   "execution_count": 41,
   "id": "e41c9387-62f7-411a-a0ee-2b04d451b769",
   "metadata": {},
   "outputs": [
    {
     "name": "stdout",
     "output_type": "stream",
     "text": [
      "Hello\n"
     ]
    }
   ],
   "source": [
    "def extract_alphabets(input_str):\n",
    "    return \"\".join(char for char in input_str if char.isalpha())\n",
    "\n",
    "# Example usage:\n",
    "input_str = \"Hello123\"\n",
    "result = extract_alphabets(input_str)\n",
    "print(result)\n"
   ]
  },
  {
   "cell_type": "code",
   "execution_count": 42,
   "id": "7a0f8195-46d3-49ed-b46e-1fb2bcfb7e9c",
   "metadata": {},
   "outputs": [
    {
     "name": "stdout",
     "output_type": "stream",
     "text": [
      "2\n"
     ]
    }
   ],
   "source": [
    "def count_uppercase(input_str):\n",
    "    return sum(1 for char in input_str if char.isupper())\n",
    "\n",
    "# Example usage:\n",
    "input_str = \"Hello World\"\n",
    "result = count_uppercase(input_str)\n",
    "print(result)\n"
   ]
  },
  {
   "cell_type": "code",
   "execution_count": 43,
   "id": "431da4ce-147e-4f45-851f-3a246dbb5d6f",
   "metadata": {},
   "outputs": [
    {
     "name": "stdout",
     "output_type": "stream",
     "text": [
      "8\n"
     ]
    }
   ],
   "source": [
    "def count_lowercase(input_str):\n",
    "    return sum(1 for char in input_str if char.islower())\n",
    "\n",
    "# Example usage:\n",
    "input_str = \"Hello World\"\n",
    "result = count_lowercase(input_str)\n",
    "print(result)\n"
   ]
  },
  {
   "cell_type": "code",
   "execution_count": 44,
   "id": "27f5e8ba-cdcc-4043-b53c-233084a9274e",
   "metadata": {},
   "outputs": [
    {
     "name": "stdout",
     "output_type": "stream",
     "text": [
      "hELLO wORLD\n"
     ]
    }
   ],
   "source": [
    "def swap_case(input_str):\n",
    "    return input_str.swapcase()\n",
    "\n",
    "# Example usage:\n",
    "input_str = \"Hello World\"\n",
    "result = swap_case(input_str)\n",
    "print(result)\n"
   ]
  },
  {
   "cell_type": "code",
   "execution_count": 45,
   "id": "ab42ea0b-f469-4cf6-a114-af72d2770505",
   "metadata": {},
   "outputs": [
    {
     "name": "stdout",
     "output_type": "stream",
     "text": [
      "Hello World, this a test.\n"
     ]
    }
   ],
   "source": [
    "def remove_specific_word(input_str, target_word):\n",
    "    words = input_str.split()\n",
    "    words = [word for word in words if word != target_word]\n",
    "    return \" \".join(words)\n",
    "\n",
    "# Example usage:\n",
    "input_str = \"Hello World, this is a test.\"\n",
    "target_word = \"is\"\n",
    "result = remove_specific_word(input_str, target_word)\n",
    "print(result)\n"
   ]
  },
  {
   "cell_type": "code",
   "execution_count": 46,
   "id": "2504f73c-3d44-473a-bd98-9557347846fd",
   "metadata": {},
   "outputs": [
    {
     "name": "stdout",
     "output_type": "stream",
     "text": [
      "True\n"
     ]
    }
   ],
   "source": [
    "import re\n",
    "\n",
    "def is_valid_email(email):\n",
    "    pattern = r'^[a-zA-Z0-9_.+-]+@[a-zA-Z0-9-]+\\.[a-zA-Z0-9-.]+$'\n",
    "    return re.match(pattern, email) is not None\n",
    "\n",
    "# Example usage:\n",
    "email_address = \"user@example.com\"\n",
    "result = is_valid_email(email_address)\n",
    "print(result)\n"
   ]
  },
  {
   "cell_type": "code",
   "execution_count": 47,
   "id": "dbd52c5c-99cb-4f07-91a0-4ef4e3c888da",
   "metadata": {},
   "outputs": [
    {
     "name": "stdout",
     "output_type": "stream",
     "text": [
      "user\n"
     ]
    }
   ],
   "source": [
    "def extract_username_from_email(email):\n",
    "    return email.split('@')[0]\n",
    "\n",
    "# Example usage:\n",
    "email_address = \"user@example.com\"\n",
    "result = extract_username_from_email(email_address)\n",
    "print(result)\n"
   ]
  },
  {
   "cell_type": "code",
   "execution_count": 48,
   "id": "d46a87e1-56a9-4930-b731-4da4a8d9fad2",
   "metadata": {},
   "outputs": [
    {
     "name": "stdout",
     "output_type": "stream",
     "text": [
      "example.com\n"
     ]
    }
   ],
   "source": [
    "def extract_domain_from_email(email):\n",
    "    return email.split('@')[1]\n",
    "\n",
    "# Example usage:\n",
    "email_address = \"user@example.com\"\n",
    "result = extract_domain_from_email(email_address)\n",
    "print(result)\n"
   ]
  },
  {
   "cell_type": "code",
   "execution_count": 49,
   "id": "659a845d-92cd-4feb-83a6-4a56c504d3b0",
   "metadata": {},
   "outputs": [
    {
     "name": "stdout",
     "output_type": "stream",
     "text": [
      "Hello World, this is a test.\n"
     ]
    }
   ],
   "source": [
    "def replace_multiple_spaces(input_str):\n",
    "    return ' '.join(input_str.split())\n",
    "\n",
    "# Example usage:\n",
    "input_str = \"Hello   World,   this   is   a   test.\"\n",
    "result = replace_multiple_spaces(input_str)\n",
    "print(result)\n"
   ]
  },
  {
   "cell_type": "code",
   "execution_count": 50,
   "id": "1cbdf535-7500-46e9-94e4-a4d38dfc68ec",
   "metadata": {},
   "outputs": [
    {
     "name": "stdout",
     "output_type": "stream",
     "text": [
      "True\n"
     ]
    }
   ],
   "source": [
    "from urllib.parse import urlparse\n",
    "\n",
    "def is_valid_url(url):\n",
    "    try:\n",
    "        result = urlparse(url)\n",
    "        return all([result.scheme, result.netloc])\n",
    "    except ValueError:\n",
    "        return False\n",
    "\n",
    "# Example usage:\n",
    "url = \"https://www.example.com\"\n",
    "result = is_valid_url(url)\n",
    "print(result)\n"
   ]
  },
  {
   "cell_type": "code",
   "execution_count": 51,
   "id": "d27e1988-9832-4e00-9702-3bd9a09b2025",
   "metadata": {},
   "outputs": [
    {
     "name": "stdout",
     "output_type": "stream",
     "text": [
      "https\n"
     ]
    }
   ],
   "source": [
    "from urllib.parse import urlparse\n",
    "\n",
    "def extract_protocol_from_url(url):\n",
    "    result = urlparse(url)\n",
    "    return result.scheme\n",
    "\n",
    "# Example usage:\n",
    "url = \"https://www.example.com\"\n",
    "result = extract_protocol_from_url(url)\n",
    "print(result)\n"
   ]
  },
  {
   "cell_type": "code",
   "execution_count": 52,
   "id": "548547a0-49ec-4e79-b900-ceb3cef4b26d",
   "metadata": {},
   "outputs": [
    {
     "name": "stdout",
     "output_type": "stream",
     "text": [
      "Counter({'l': 3, 'o': 2, 'H': 1, 'e': 1, ' ': 1, 'W': 1, 'r': 1, 'd': 1})\n"
     ]
    }
   ],
   "source": [
    "from collections import Counter\n",
    "\n",
    "def character_frequency(input_str):\n",
    "    return Counter(input_str)\n",
    "\n",
    "# Example usage:\n",
    "input_str = \"Hello World\"\n",
    "result = character_frequency(input_str)\n",
    "print(result)\n"
   ]
  },
  {
   "cell_type": "code",
   "execution_count": 53,
   "id": "73ac751a-1593-4abc-9c5c-1d5554de866c",
   "metadata": {},
   "outputs": [
    {
     "name": "stdout",
     "output_type": "stream",
     "text": [
      "Hello World\n"
     ]
    }
   ],
   "source": [
    "import string\n",
    "\n",
    "def remove_punctuation(input_str):\n",
    "    return ''.join(char for char in input_str if char not in string.punctuation)\n",
    "\n",
    "# Example usage:\n",
    "input_str = \"Hello, World!\"\n",
    "result = remove_punctuation(input_str)\n",
    "print(result)\n"
   ]
  },
  {
   "cell_type": "code",
   "execution_count": 54,
   "id": "5702c497-7453-414a-b45e-76ccfdf22c7d",
   "metadata": {},
   "outputs": [
    {
     "name": "stdout",
     "output_type": "stream",
     "text": [
      "True\n"
     ]
    }
   ],
   "source": [
    "def contains_only_digits(input_str):\n",
    "    return input_str.isdigit()\n",
    "\n",
    "# Example usage:\n",
    "input_str = \"12345\"\n",
    "result = contains_only_digits(input_str)\n",
    "print(result)\n"
   ]
  },
  {
   "cell_type": "code",
   "execution_count": 55,
   "id": "6d24b3fe-71e5-44da-94ee-e9b878535b4c",
   "metadata": {},
   "outputs": [
    {
     "name": "stdout",
     "output_type": "stream",
     "text": [
      "True\n"
     ]
    }
   ],
   "source": [
    "def contains_only_alphabets(input_str):\n",
    "    return input_str.isalpha()\n",
    "\n",
    "# Example usage:\n",
    "input_str = \"Hello\"\n",
    "result = contains_only_alphabets(input_str)\n",
    "print(result)\n"
   ]
  },
  {
   "cell_type": "code",
   "execution_count": 56,
   "id": "20a3bddd-c667-4f20-907d-d45b2f5d1d48",
   "metadata": {},
   "outputs": [
    {
     "name": "stdout",
     "output_type": "stream",
     "text": [
      "True\n"
     ]
    }
   ],
   "source": [
    "def are_anagrams(str1, str2):\n",
    "    return sorted(str1) == sorted(str2)\n",
    "\n",
    "# Example usage:\n",
    "string1 = \"listen\"\n",
    "string2 = \"silent\"\n",
    "result = are_anagrams(string1, string2)\n",
    "print(result)\n"
   ]
  },
  {
   "cell_type": "code",
   "execution_count": 57,
   "id": "bcecf41e-fa16-4e28-9d8e-17f36844194f",
   "metadata": {},
   "outputs": [
    {
     "name": "stdout",
     "output_type": "stream",
     "text": [
      "Khoor Zruog\n"
     ]
    }
   ],
   "source": [
    "def caesar_cipher_encode(input_str, shift):\n",
    "    result = \"\"\n",
    "    for char in input_str:\n",
    "        if char.isalpha():\n",
    "            base = ord('a') if char.islower() else ord('A')\n",
    "            result += chr((ord(char) - base + shift) % 26 + base)\n",
    "        else:\n",
    "            result += char\n",
    "    return result\n",
    "\n",
    "# Example usage:\n",
    "input_str = \"Hello World\"\n",
    "shift = 3\n",
    "result = caesar_cipher_encode(input_str, shift)\n",
    "print(result)\n"
   ]
  },
  {
   "cell_type": "code",
   "execution_count": 58,
   "id": "a9caab3f-e010-4b46-8a56-4b39a52ad930",
   "metadata": {},
   "outputs": [
    {
     "name": "stdout",
     "output_type": "stream",
     "text": [
      "Hello World\n"
     ]
    }
   ],
   "source": [
    "def caesar_cipher_decode(input_str, shift):\n",
    "    return caesar_cipher_encode(input_str, -shift)\n",
    "\n",
    "# Example usage:\n",
    "encoded_str = \"Khoor Zruog\"\n",
    "shift = 3\n",
    "result = caesar_cipher_decode(encoded_str, shift)\n",
    "print(result)\n"
   ]
  },
  {
   "cell_type": "code",
   "execution_count": 59,
   "id": "ca38d18b-a047-4f7b-b702-1559b780d76b",
   "metadata": {},
   "outputs": [
    {
     "name": "stdout",
     "output_type": "stream",
     "text": [
      "Hello\n"
     ]
    }
   ],
   "source": [
    "from collections import Counter\n",
    "\n",
    "def most_frequent_word(input_str):\n",
    "    words = input_str.split()\n",
    "    word_counts = Counter(words)\n",
    "    return word_counts.most_common(1)[0][0]\n",
    "\n",
    "# Example usage:\n",
    "input_str = \"Hello World, World is beautiful. Hello Universe.\"\n",
    "result = most_frequent_word(input_str)\n",
    "print(result)\n"
   ]
  },
  {
   "cell_type": "code",
   "execution_count": 60,
   "id": "4fb3d023-a81a-41cf-9976-a4ca3f2b493b",
   "metadata": {},
   "outputs": [
    {
     "name": "stdout",
     "output_type": "stream",
     "text": [
      "{'Universe.', 'World,', 'Hello', 'is', 'beautiful.', 'World'}\n"
     ]
    }
   ],
   "source": [
    "def unique_words(input_str):\n",
    "    return set(input_str.split())\n",
    "\n",
    "# Example usage:\n",
    "input_str = \"Hello World, World is beautiful. Hello Universe.\"\n",
    "result = unique_words(input_str)\n",
    "print(result)\n"
   ]
  },
  {
   "cell_type": "code",
   "execution_count": 61,
   "id": "7c8fccf1-7b79-40fc-b58d-a2f69430bbdf",
   "metadata": {},
   "outputs": [
    {
     "name": "stdout",
     "output_type": "stream",
     "text": [
      "3\n"
     ]
    }
   ],
   "source": [
    "def count_syllables(input_str):\n",
    "    vowels = \"aeiouAEIOU\"\n",
    "    count = 0\n",
    "    for word in input_str.split():\n",
    "        for char in word:\n",
    "            if char in vowels:\n",
    "                count += 1\n",
    "    return count\n",
    "\n",
    "# Example usage:\n",
    "input_str = \"Hello World\"\n",
    "result = count_syllables(input_str)\n",
    "print(result)\n"
   ]
  },
  {
   "cell_type": "code",
   "execution_count": 62,
   "id": "a965e12c-77b9-4afd-bd2d-2959c0a5c1fa",
   "metadata": {},
   "outputs": [
    {
     "name": "stdout",
     "output_type": "stream",
     "text": [
      "True\n"
     ]
    }
   ],
   "source": [
    "def contains_special_characters(input_str):\n",
    "    return any(char.isalnum() == False for char in input_str)\n",
    "\n",
    "# Example usage:\n",
    "input_str = \"Hello@World\"\n",
    "result = contains_special_characters(input_str)\n",
    "print(result)\n"
   ]
  },
  {
   "cell_type": "code",
   "execution_count": 63,
   "id": "ffe6df95-267e-4231-b7c9-ad948c0872d8",
   "metadata": {},
   "outputs": [
    {
     "name": "stdout",
     "output_type": "stream",
     "text": [
      "Hello World, is a test.\n"
     ]
    }
   ],
   "source": [
    "def remove_nth_word(input_str, n):\n",
    "    words = input_str.split()\n",
    "    if 1 <= n <= len(words):\n",
    "        del words[n - 1]\n",
    "    return \" \".join(words)\n",
    "\n",
    "# Example usage:\n",
    "input_str = \"Hello World, this is a test.\"\n",
    "n = 3\n",
    "result = remove_nth_word(input_str, n)\n",
    "print(result)\n"
   ]
  },
  {
   "cell_type": "code",
   "execution_count": 64,
   "id": "f9896297-c9a5-40a5-a695-4f49de359328",
   "metadata": {},
   "outputs": [
    {
     "name": "stdout",
     "output_type": "stream",
     "text": [
      "Hello World, awesome this is a test.\n"
     ]
    }
   ],
   "source": [
    "def insert_word_at_nth_position(input_str, n, new_word):\n",
    "    words = input_str.split()\n",
    "    if 1 <= n <= len(words) + 1:\n",
    "        words.insert(n - 1, new_word)\n",
    "    return \" \".join(words)\n",
    "\n",
    "# Example usage:\n",
    "input_str = \"Hello World, this is a test.\"\n",
    "n = 3\n",
    "new_word = \"awesome\"\n",
    "result = insert_word_at_nth_position(input_str, n, new_word)\n",
    "print(result)\n"
   ]
  },
  {
   "cell_type": "code",
   "execution_count": 65,
   "id": "d9fe599e-4b46-483e-9cb1-64cd00a7be3c",
   "metadata": {},
   "outputs": [
    {
     "ename": "Error",
     "evalue": "new-line character seen in unquoted field - do you need to open the file in universal-newline mode?",
     "output_type": "error",
     "traceback": [
      "\u001b[0;31m---------------------------------------------------------------------------\u001b[0m",
      "\u001b[0;31mError\u001b[0m                                     Traceback (most recent call last)",
      "Cell \u001b[0;32mIn[65], line 8\u001b[0m\n\u001b[1;32m      6\u001b[0m \u001b[38;5;66;03m# Example usage:\u001b[39;00m\n\u001b[1;32m      7\u001b[0m csv_string \u001b[38;5;241m=\u001b[39m \u001b[38;5;124m\"\u001b[39m\u001b[38;5;124m1,John,Doe\u001b[39m\u001b[38;5;130;01m\\n\u001b[39;00m\u001b[38;5;124m2,Jane,Smith\u001b[39m\u001b[38;5;130;01m\\n\u001b[39;00m\u001b[38;5;124m3,Bob,Johnson\u001b[39m\u001b[38;5;124m\"\u001b[39m\n\u001b[0;32m----> 8\u001b[0m result \u001b[38;5;241m=\u001b[39m \u001b[43mcsv_string_to_list\u001b[49m\u001b[43m(\u001b[49m\u001b[43mcsv_string\u001b[49m\u001b[43m)\u001b[49m\n\u001b[1;32m      9\u001b[0m \u001b[38;5;28mprint\u001b[39m(result)\n",
      "Cell \u001b[0;32mIn[65], line 4\u001b[0m, in \u001b[0;36mcsv_string_to_list\u001b[0;34m(csv_string)\u001b[0m\n\u001b[1;32m      3\u001b[0m \u001b[38;5;28;01mdef\u001b[39;00m \u001b[38;5;21mcsv_string_to_list\u001b[39m(csv_string):\n\u001b[0;32m----> 4\u001b[0m     \u001b[38;5;28;01mreturn\u001b[39;00m \u001b[38;5;28;43mlist\u001b[39;49m\u001b[43m(\u001b[49m\u001b[43mcsv\u001b[49m\u001b[38;5;241;43m.\u001b[39;49m\u001b[43mreader\u001b[49m\u001b[43m(\u001b[49m\u001b[43m[\u001b[49m\u001b[43mcsv_string\u001b[49m\u001b[43m]\u001b[49m\u001b[43m)\u001b[49m\u001b[43m)\u001b[49m[\u001b[38;5;241m0\u001b[39m]\n",
      "\u001b[0;31mError\u001b[0m: new-line character seen in unquoted field - do you need to open the file in universal-newline mode?"
     ]
    }
   ],
   "source": [
    "import csv\n",
    "\n",
    "def csv_string_to_list(csv_string):\n",
    "    return list(csv.reader([csv_string]))[0]\n",
    "\n",
    "# Example usage:\n",
    "csv_string = \"1,John,Doe\\n2,Jane,Smith\\n3,Bob,Johnson\"\n",
    "result = csv_string_to_list(csv_string)\n",
    "print(result)\n"
   ]
  },
  {
   "cell_type": "code",
   "execution_count": 66,
   "id": "66efa0b2-ddb7-4eb9-aca8-2e2cfdac0234",
   "metadata": {},
   "outputs": [
    {
     "ename": "Error",
     "evalue": "new-line character seen in unquoted field - do you need to open the file in universal-newline mode?",
     "output_type": "error",
     "traceback": [
      "\u001b[0;31m---------------------------------------------------------------------------\u001b[0m",
      "\u001b[0;31mError\u001b[0m                                     Traceback (most recent call last)",
      "Cell \u001b[0;32mIn[66], line 8\u001b[0m\n\u001b[1;32m      6\u001b[0m \u001b[38;5;66;03m# Example usage:\u001b[39;00m\n\u001b[1;32m      7\u001b[0m csv_string \u001b[38;5;241m=\u001b[39m \u001b[38;5;124m\"\u001b[39m\u001b[38;5;124m1,John,Doe\u001b[39m\u001b[38;5;130;01m\\n\u001b[39;00m\u001b[38;5;124m2,Jane,Smith\u001b[39m\u001b[38;5;130;01m\\n\u001b[39;00m\u001b[38;5;124m3,Bob,Johnson\u001b[39m\u001b[38;5;124m\"\u001b[39m\n\u001b[0;32m----> 8\u001b[0m result \u001b[38;5;241m=\u001b[39m \u001b[43mcsv_string_to_list\u001b[49m\u001b[43m(\u001b[49m\u001b[43mcsv_string\u001b[49m\u001b[43m)\u001b[49m\n\u001b[1;32m      9\u001b[0m \u001b[38;5;28mprint\u001b[39m(result)\n",
      "Cell \u001b[0;32mIn[66], line 4\u001b[0m, in \u001b[0;36mcsv_string_to_list\u001b[0;34m(csv_string)\u001b[0m\n\u001b[1;32m      3\u001b[0m \u001b[38;5;28;01mdef\u001b[39;00m \u001b[38;5;21mcsv_string_to_list\u001b[39m(csv_string):\n\u001b[0;32m----> 4\u001b[0m     \u001b[38;5;28;01mreturn\u001b[39;00m \u001b[38;5;28;43mlist\u001b[39;49m\u001b[43m(\u001b[49m\u001b[43mcsv\u001b[49m\u001b[38;5;241;43m.\u001b[39;49m\u001b[43mreader\u001b[49m\u001b[43m(\u001b[49m\u001b[43m[\u001b[49m\u001b[43mcsv_string\u001b[49m\u001b[43m]\u001b[49m\u001b[43m)\u001b[49m\u001b[43m)\u001b[49m[\u001b[38;5;241m0\u001b[39m]\n",
      "\u001b[0;31mError\u001b[0m: new-line character seen in unquoted field - do you need to open the file in universal-newline mode?"
     ]
    }
   ],
   "source": [
    "import csv\n",
    "\n",
    "def csv_string_to_list(csv_string):\n",
    "    return list(csv.reader([csv_string]))[0]\n",
    "\n",
    "# Example usage:\n",
    "csv_string = \"1,John,Doe\\n2,Jane,Smith\\n3,Bob,Johnson\"\n",
    "result = csv_string_to_list(csv_string)\n",
    "print(result)\n"
   ]
  },
  {
   "cell_type": "code",
   "execution_count": 67,
   "id": "b412f2aa-aafd-43ed-bd23-87d7a5ab9a29",
   "metadata": {},
   "outputs": [
    {
     "name": "stdout",
     "output_type": "stream",
     "text": [
      "[1, 2, 3, 4, 5, 6, 7, 8, 9, 10]\n"
     ]
    }
   ],
   "source": [
    "##list based problem 1-50\n",
    "integer_list = list(range(1, 11))\n",
    "print(integer_list)\n"
   ]
  },
  {
   "cell_type": "code",
   "execution_count": 68,
   "id": "a160f9c4-b680-4e89-96bd-2ee35206ebe8",
   "metadata": {},
   "outputs": [
    {
     "name": "stdout",
     "output_type": "stream",
     "text": [
      "10\n"
     ]
    }
   ],
   "source": [
    "def find_length(lst):\n",
    "    count = 0\n",
    "    for _ in lst:\n",
    "        count += 1\n",
    "    return count\n",
    "\n",
    "# Example usage:\n",
    "length = find_length(integer_list)\n",
    "print(length)\n"
   ]
  },
  {
   "cell_type": "code",
   "execution_count": 69,
   "id": "18399be7-a0f5-4f2a-b60b-3bff86a5edd3",
   "metadata": {},
   "outputs": [
    {
     "name": "stdout",
     "output_type": "stream",
     "text": [
      "[1, 2, 3, 4, 5, 6, 7, 8, 9, 10, 11]\n"
     ]
    }
   ],
   "source": [
    "integer_list.append(11)\n",
    "print(integer_list)\n"
   ]
  },
  {
   "cell_type": "code",
   "execution_count": 70,
   "id": "308fd884-9666-4c49-8453-b3081fba7831",
   "metadata": {},
   "outputs": [
    {
     "name": "stdout",
     "output_type": "stream",
     "text": [
      "[1, 2, 3, 4, 5, 99, 6, 7, 8, 9, 10, 11]\n"
     ]
    }
   ],
   "source": [
    "index_to_insert = 5\n",
    "element_to_insert = 99\n",
    "integer_list.insert(index_to_insert, element_to_insert)\n",
    "print(integer_list)\n"
   ]
  },
  {
   "cell_type": "code",
   "execution_count": 71,
   "id": "0fff05eb-e689-4d57-9dbe-d34959c809c4",
   "metadata": {},
   "outputs": [
    {
     "name": "stdout",
     "output_type": "stream",
     "text": [
      "[1, 2, 3, 4, 5, 6, 7, 8, 9, 10, 11]\n"
     ]
    }
   ],
   "source": [
    "element_to_remove = 99\n",
    "integer_list.remove(element_to_remove)\n",
    "print(integer_list)\n"
   ]
  },
  {
   "cell_type": "code",
   "execution_count": 72,
   "id": "95c26b09-c7a5-43eb-a782-27c9a7223a33",
   "metadata": {},
   "outputs": [
    {
     "name": "stdout",
     "output_type": "stream",
     "text": [
      "[1, 2, 4, 5, 6, 7, 8, 9, 10, 11]\n"
     ]
    }
   ],
   "source": [
    "index_to_remove = 2\n",
    "del integer_list[index_to_remove]\n",
    "print(integer_list)\n"
   ]
  },
  {
   "cell_type": "code",
   "execution_count": 73,
   "id": "db001037-f0f6-43ce-83c6-3816f2adce2e",
   "metadata": {},
   "outputs": [
    {
     "name": "stdout",
     "output_type": "stream",
     "text": [
      "True\n"
     ]
    }
   ],
   "source": [
    "element_to_check = 8\n",
    "exists = element_to_check in integer_list\n",
    "print(exists)\n"
   ]
  },
  {
   "cell_type": "code",
   "execution_count": 74,
   "id": "42186bee-3a42-4879-8d5d-ece816933fc8",
   "metadata": {},
   "outputs": [
    {
     "name": "stdout",
     "output_type": "stream",
     "text": [
      "1\n"
     ]
    }
   ],
   "source": [
    "element_to_count = 5\n",
    "count = integer_list.count(element_to_count)\n",
    "print(count)\n"
   ]
  },
  {
   "cell_type": "code",
   "execution_count": 75,
   "id": "ecb3f431-4abf-4a87-b187-f0010bf17661",
   "metadata": {},
   "outputs": [
    {
     "name": "stdout",
     "output_type": "stream",
     "text": [
      "1\n"
     ]
    }
   ],
   "source": [
    "element_to_count = 5\n",
    "count = integer_list.count(element_to_count)\n",
    "print(count)\n"
   ]
  },
  {
   "cell_type": "code",
   "execution_count": 76,
   "id": "f274ea67-bd38-4610-85e9-477e41e4883f",
   "metadata": {},
   "outputs": [
    {
     "name": "stdout",
     "output_type": "stream",
     "text": [
      "[11, 10, 9, 8, 7, 6, 5, 4, 2, 1]\n"
     ]
    }
   ],
   "source": [
    "integer_list.reverse()\n",
    "print(integer_list)\n"
   ]
  },
  {
   "cell_type": "code",
   "execution_count": 77,
   "id": "58395f93-99bc-43eb-ae08-915360f23bfa",
   "metadata": {},
   "outputs": [
    {
     "name": "stdout",
     "output_type": "stream",
     "text": [
      "[1, 2, 4, 5, 6, 7, 8, 9, 10, 11]\n"
     ]
    }
   ],
   "source": [
    "sorted_list_ascending = sorted(integer_list)\n",
    "print(sorted_list_ascending)\n"
   ]
  },
  {
   "cell_type": "code",
   "execution_count": 78,
   "id": "2e8e2d6f-8960-415b-a292-c61685673215",
   "metadata": {},
   "outputs": [
    {
     "name": "stdout",
     "output_type": "stream",
     "text": [
      "[11, 10, 9, 8, 7, 6, 5, 4, 2, 1]\n"
     ]
    }
   ],
   "source": [
    "sorted_list_descending = sorted(integer_list, reverse=True)\n",
    "print(sorted_list_descending)\n"
   ]
  },
  {
   "cell_type": "code",
   "execution_count": 79,
   "id": "a110c979-6706-4e78-834d-f762f7c05786",
   "metadata": {},
   "outputs": [
    {
     "name": "stdout",
     "output_type": "stream",
     "text": [
      "[2, 4, 6, 8, 10, 12, 14, 16, 18, 20]\n"
     ]
    }
   ],
   "source": [
    "even_numbers_list = list(range(2, 21, 2))\n",
    "print(even_numbers_list)\n"
   ]
  },
  {
   "cell_type": "code",
   "execution_count": 80,
   "id": "94a63fe5-b337-4726-bc80-691148b77001",
   "metadata": {},
   "outputs": [
    {
     "name": "stdout",
     "output_type": "stream",
     "text": [
      "[1, 3, 5, 7, 9, 11, 13, 15, 17, 19]\n"
     ]
    }
   ],
   "source": [
    "odd_numbers_list = list(range(1, 21, 2))\n",
    "print(odd_numbers_list)\n"
   ]
  },
  {
   "cell_type": "code",
   "execution_count": 81,
   "id": "588dc890-9bf3-428e-acfa-c7645b795129",
   "metadata": {},
   "outputs": [
    {
     "name": "stdout",
     "output_type": "stream",
     "text": [
      "11\n"
     ]
    }
   ],
   "source": [
    "max_value = max(integer_list)\n",
    "print(max_value)\n"
   ]
  },
  {
   "cell_type": "code",
   "execution_count": 82,
   "id": "5ff59a15-1b0e-4a6c-8fea-aab5dcb1e06d",
   "metadata": {},
   "outputs": [
    {
     "name": "stdout",
     "output_type": "stream",
     "text": [
      "1\n"
     ]
    }
   ],
   "source": [
    "min_value = min(integer_list)\n",
    "print(min_value)\n"
   ]
  },
  {
   "cell_type": "code",
   "execution_count": 83,
   "id": "89e8421d-2dec-48b7-87a8-7572f71abe54",
   "metadata": {},
   "outputs": [
    {
     "name": "stdout",
     "output_type": "stream",
     "text": [
      "[100, 65, 29, 24, 1, 11, 89, 95, 20, 54]\n"
     ]
    }
   ],
   "source": [
    "import random\n",
    "\n",
    "random_numbers_list = [random.randint(1, 100) for _ in range(10)]\n",
    "print(random_numbers_list)\n"
   ]
  },
  {
   "cell_type": "code",
   "execution_count": 84,
   "id": "55103fb0-472f-4dab-9f38-694c0036472e",
   "metadata": {},
   "outputs": [
    {
     "name": "stdout",
     "output_type": "stream",
     "text": [
      "[1, 2, 3, 4, 5]\n"
     ]
    }
   ],
   "source": [
    "duplicates_list = [1, 2, 2, 3, 4, 4, 5]\n",
    "unique_list = list(set(duplicates_list))\n",
    "print(unique_list)\n"
   ]
  },
  {
   "cell_type": "code",
   "execution_count": 85,
   "id": "f53854a9-3aca-4916-97bd-e829a547efdc",
   "metadata": {},
   "outputs": [
    {
     "name": "stdout",
     "output_type": "stream",
     "text": [
      "[3, 4, 5]\n"
     ]
    }
   ],
   "source": [
    "list1 = [1, 2, 3, 4, 5]\n",
    "list2 = [3, 4, 5, 6, 7]\n",
    "common_elements = list(set(list1) & set(list2))\n",
    "print(common_elements)\n"
   ]
  },
  {
   "cell_type": "code",
   "execution_count": 86,
   "id": "18bb1024-95c6-4924-b67f-01e67eed25f3",
   "metadata": {},
   "outputs": [
    {
     "name": "stdout",
     "output_type": "stream",
     "text": [
      "[1, 2]\n"
     ]
    }
   ],
   "source": [
    "list1 = [1, 2, 3, 4, 5]\n",
    "list2 = [3, 4, 5, 6, 7]\n",
    "difference = list(set(list1) - set(list2))\n",
    "print(difference)\n"
   ]
  },
  {
   "cell_type": "code",
   "execution_count": 87,
   "id": "ffd7b79d-a7c5-4f84-8812-79093540fda6",
   "metadata": {},
   "outputs": [
    {
     "name": "stdout",
     "output_type": "stream",
     "text": [
      "[1, 2, 3, 4, 5, 6]\n"
     ]
    }
   ],
   "source": [
    "list1 = [1, 2, 3]\n",
    "list2 = [4, 5, 6]\n",
    "merged_list = list1 + list2\n",
    "print(merged_list)\n"
   ]
  },
  {
   "cell_type": "code",
   "execution_count": 88,
   "id": "290d1d0e-832a-4058-904a-961dad687939",
   "metadata": {},
   "outputs": [
    {
     "name": "stdout",
     "output_type": "stream",
     "text": [
      "[22, 20, 18, 16, 14, 12, 10, 8, 4, 2]\n"
     ]
    }
   ],
   "source": [
    "multiplied_list = [x * 2 for x in integer_list]\n",
    "print(multiplied_list)\n"
   ]
  },
  {
   "cell_type": "code",
   "execution_count": 89,
   "id": "0866b3ec-42a4-4719-a2cb-664566219e4a",
   "metadata": {},
   "outputs": [
    {
     "name": "stdout",
     "output_type": "stream",
     "text": [
      "[11, 9, 7, 5, 1]\n"
     ]
    }
   ],
   "source": [
    "filtered_list = [x for x in integer_list if x % 2 != 0]\n",
    "print(filtered_list)\n"
   ]
  },
  {
   "cell_type": "code",
   "execution_count": 90,
   "id": "78fa9b1e-6a06-49c1-b74c-4f595b8e751f",
   "metadata": {},
   "outputs": [
    {
     "name": "stdout",
     "output_type": "stream",
     "text": [
      "[1, 2, 3]\n"
     ]
    }
   ],
   "source": [
    "string_list = [\"1\", \"2\", \"3\"]\n",
    "int_list = list(map(int, string_list))\n",
    "print(int_list)\n"
   ]
  },
  {
   "cell_type": "code",
   "execution_count": 91,
   "id": "4cde41aa-8e1b-4f6e-878f-6c6ae122d413",
   "metadata": {},
   "outputs": [
    {
     "name": "stdout",
     "output_type": "stream",
     "text": [
      "['1', '2', '3']\n"
     ]
    }
   ],
   "source": [
    "int_list = [1, 2, 3]\n",
    "string_list = list(map(str, int_list))\n",
    "print(string_list)\n"
   ]
  },
  {
   "cell_type": "code",
   "execution_count": 92,
   "id": "363a7d58-84ff-4fb1-b4b4-fdfbbd38f4ae",
   "metadata": {},
   "outputs": [
    {
     "name": "stdout",
     "output_type": "stream",
     "text": [
      "[1, 2, 3, 4, 5, 6, 7, 8, 9]\n"
     ]
    }
   ],
   "source": [
    "nested_list = [[1, 2, 3], [4, 5, 6], [7, 8, 9]]\n",
    "flattened_list = [item for sublist in nested_list for item in sublist]\n",
    "print(flattened_list)\n"
   ]
  },
  {
   "cell_type": "code",
   "execution_count": 93,
   "id": "74253387-a8e3-4146-9ab9-4e33659328ce",
   "metadata": {},
   "outputs": [
    {
     "name": "stdout",
     "output_type": "stream",
     "text": [
      "[0, 1, 1, 2, 3, 5, 8, 13, 21, 34]\n"
     ]
    }
   ],
   "source": [
    "def generate_fibonacci(n):\n",
    "    fibonacci_list = [0, 1]\n",
    "    while len(fibonacci_list) < n:\n",
    "        next_value = fibonacci_list[-1] + fibonacci_list[-2]\n",
    "        fibonacci_list.append(next_value)\n",
    "    return fibonacci_list\n",
    "\n",
    "fibonacci_numbers = generate_fibonacci(10)\n",
    "print(fibonacci_numbers)\n"
   ]
  },
  {
   "cell_type": "code",
   "execution_count": 94,
   "id": "0cb83000-0bbc-4a98-b23d-664318257672",
   "metadata": {},
   "outputs": [
    {
     "name": "stdout",
     "output_type": "stream",
     "text": [
      "True\n",
      "False\n"
     ]
    }
   ],
   "source": [
    "def is_sorted(lst):\n",
    "    return all(lst[i] <= lst[i + 1] for i in range(len(lst) - 1))\n",
    "\n",
    "# Example usage:\n",
    "sorted_list = [1, 2, 3, 4, 5]\n",
    "unsorted_list = [3, 1, 4, 2, 5]\n",
    "print(is_sorted(sorted_list))  # True\n",
    "print(is_sorted(unsorted_list))  # False\n"
   ]
  },
  {
   "cell_type": "code",
   "execution_count": 95,
   "id": "70bfa40c-feaa-473b-bf96-41eb059d9b1c",
   "metadata": {},
   "outputs": [
    {
     "name": "stdout",
     "output_type": "stream",
     "text": [
      "[3, 4, 5, 1, 2]\n"
     ]
    }
   ],
   "source": [
    "def rotate_left(lst, n):\n",
    "    n = n % len(lst)\n",
    "    return lst[n:] + lst[:n]\n",
    "\n",
    "# Example usage:\n",
    "original_list = [1, 2, 3, 4, 5]\n",
    "rotated_list = rotate_left(original_list, 2)\n",
    "print(rotated_list)\n"
   ]
  },
  {
   "cell_type": "code",
   "execution_count": 96,
   "id": "aa7e872c-d80f-44d8-9daf-b93eecdcb8d4",
   "metadata": {},
   "outputs": [
    {
     "name": "stdout",
     "output_type": "stream",
     "text": [
      "[4, 5, 1, 2, 3]\n"
     ]
    }
   ],
   "source": [
    "def rotate_right(lst, n):\n",
    "    n = n % len(lst)\n",
    "    return lst[-n:] + lst[:-n]\n",
    "\n",
    "# Example usage:\n",
    "original_list = [1, 2, 3, 4, 5]\n",
    "rotated_list = rotate_right(original_list, 2)\n",
    "print(rotated_list)\n"
   ]
  },
  {
   "cell_type": "code",
   "execution_count": 97,
   "id": "1c61737e-adaf-4871-8419-10e0f640bed3",
   "metadata": {},
   "outputs": [
    {
     "name": "stdout",
     "output_type": "stream",
     "text": [
      "[2, 3, 5, 7, 11, 13, 17, 19, 23, 29, 31, 37, 41, 43, 47]\n"
     ]
    }
   ],
   "source": [
    "def is_prime(num):\n",
    "    if num < 2:\n",
    "        return False\n",
    "    for i in range(2, int(num**0.5) + 1):\n",
    "        if num % i == 0:\n",
    "            return False\n",
    "    return True\n",
    "\n",
    "prime_numbers = [num for num in range(2, 51) if is_prime(num)]\n",
    "print(prime_numbers)\n"
   ]
  },
  {
   "cell_type": "code",
   "execution_count": 98,
   "id": "d4b0058e-1516-4530-8530-d63598826d23",
   "metadata": {},
   "outputs": [
    {
     "name": "stdout",
     "output_type": "stream",
     "text": [
      "[[1, 2, 3], [4, 5, 6], [7, 8, 9]]\n"
     ]
    }
   ],
   "source": [
    "def split_into_chunks(lst, n):\n",
    "    return [lst[i:i + n] for i in range(0, len(lst), n)]\n",
    "\n",
    "# Example usage:\n",
    "original_list = [1, 2, 3, 4, 5, 6, 7, 8, 9]\n",
    "chunked_list = split_into_chunks(original_list, 3)\n",
    "print(chunked_list)\n"
   ]
  },
  {
   "cell_type": "code",
   "execution_count": 99,
   "id": "65996649-1617-440b-b7b1-76a1e69437fa",
   "metadata": {},
   "outputs": [
    {
     "name": "stdout",
     "output_type": "stream",
     "text": [
      "6\n"
     ]
    }
   ],
   "source": [
    "def second_largest(lst):\n",
    "    unique_numbers = list(set(lst))\n",
    "    if len(unique_numbers) < 2:\n",
    "        return None\n",
    "    unique_numbers.sort()\n",
    "    return unique_numbers[-2]\n",
    "\n",
    "# Example usage:\n",
    "numbers_list = [3, 1, 4, 1, 5, 9, 2, 6, 5, 3, 5]\n",
    "result = second_largest(numbers_list)\n",
    "print(result)\n"
   ]
  },
  {
   "cell_type": "code",
   "execution_count": 100,
   "id": "92c2235b-98e7-43f0-a391-de8067bbe351",
   "metadata": {},
   "outputs": [
    {
     "name": "stdout",
     "output_type": "stream",
     "text": [
      "[1, 4, 9, 16, 25, 36, 49, 64, 81]\n"
     ]
    }
   ],
   "source": [
    "squared_list = [x**2 for x in original_list]\n",
    "print(squared_list)\n"
   ]
  },
  {
   "cell_type": "code",
   "execution_count": 101,
   "id": "e76021a9-8a99-45d5-82c2-43a37df9e957",
   "metadata": {},
   "outputs": [
    {
     "name": "stdout",
     "output_type": "stream",
     "text": [
      "{1: 0, 2: 1, 3: 2, 4: 3, 5: 4, 6: 5, 7: 6, 8: 7, 9: 8}\n"
     ]
    }
   ],
   "source": [
    "list_to_dict = {value: index for index, value in enumerate(original_list)}\n",
    "print(list_to_dict)\n"
   ]
  },
  {
   "cell_type": "code",
   "execution_count": 102,
   "id": "c872b3b7-f801-4af6-82fb-d8bb81462425",
   "metadata": {},
   "outputs": [
    {
     "name": "stdout",
     "output_type": "stream",
     "text": [
      "[5, 7, 8, 2, 3, 6, 4, 1, 9]\n"
     ]
    }
   ],
   "source": [
    "import random\n",
    "\n",
    "shuffled_list = random.sample(original_list, len(original_list))\n",
    "print(shuffled_list)\n"
   ]
  },
  {
   "cell_type": "code",
   "execution_count": 103,
   "id": "baa3a59f-7c7d-4ce5-9f49-a094fb59ebce",
   "metadata": {},
   "outputs": [
    {
     "name": "stdout",
     "output_type": "stream",
     "text": [
      "[1, 1, 2, 6, 24, 120, 720, 5040, 40320, 362880]\n"
     ]
    }
   ],
   "source": [
    "import math\n",
    "\n",
    "factorial_list = [math.factorial(i) for i in range(10)]\n",
    "print(factorial_list)\n"
   ]
  },
  {
   "cell_type": "code",
   "execution_count": 104,
   "id": "25a1c0a5-8869-4862-98cc-3e28f6fd8963",
   "metadata": {},
   "outputs": [
    {
     "name": "stdout",
     "output_type": "stream",
     "text": [
      "True\n"
     ]
    }
   ],
   "source": [
    "def have_common_element(list1, list2):\n",
    "    return any(element in list1 for element in list2)\n",
    "\n",
    "# Example usage:\n",
    "list1 = [1, 2, 3, 4, 5]\n",
    "list2 = [4, 5, 6, 7, 8]\n",
    "result = have_common_element(list1, list2)\n",
    "print(result)\n"
   ]
  },
  {
   "cell_type": "code",
   "execution_count": 105,
   "id": "468448e2-e076-48dc-aaac-bac6ae973034",
   "metadata": {},
   "outputs": [
    {
     "name": "stdout",
     "output_type": "stream",
     "text": [
      "[]\n"
     ]
    }
   ],
   "source": [
    "original_list.clear()\n",
    "print(original_list)\n"
   ]
  },
  {
   "cell_type": "code",
   "execution_count": 106,
   "id": "53fc11cf-ab8b-4234-a0ed-7cfad448b12c",
   "metadata": {},
   "outputs": [
    {
     "name": "stdout",
     "output_type": "stream",
     "text": [
      "[]\n"
     ]
    }
   ],
   "source": [
    "negative_replaced_list = [max(0, x) for x in original_list]\n",
    "print(negative_replaced_list)\n"
   ]
  },
  {
   "cell_type": "code",
   "execution_count": 107,
   "id": "0ba503e9-1e24-4f30-98b8-266867042afa",
   "metadata": {},
   "outputs": [
    {
     "name": "stdout",
     "output_type": "stream",
     "text": [
      "['Hello', 'World,', 'this', 'is', 'a', 'string.']\n"
     ]
    }
   ],
   "source": [
    "string_to_list = \"Hello World, this is a string.\"\n",
    "word_list = string_to_list.split()\n",
    "print(word_list)\n"
   ]
  },
  {
   "cell_type": "code",
   "execution_count": 108,
   "id": "68a8e94a-ac68-460f-bffb-d610f38db276",
   "metadata": {},
   "outputs": [
    {
     "name": "stdout",
     "output_type": "stream",
     "text": [
      "[1, 2, 4, 8, 16, 32, 64, 128, 256, 512]\n"
     ]
    }
   ],
   "source": [
    "powers_of_two = [2**i for i in range(10)]\n",
    "print(powers_of_two)\n"
   ]
  },
  {
   "cell_type": "code",
   "execution_count": 109,
   "id": "6c40fd73-c77a-4d5d-a08b-31d654dc5746",
   "metadata": {},
   "outputs": [
    {
     "name": "stdout",
     "output_type": "stream",
     "text": [
      "strawberry\n"
     ]
    }
   ],
   "source": [
    "strings_list = [\"apple\", \"banana\", \"kiwi\", \"strawberry\", \"blueberry\"]\n",
    "longest_string = max(strings_list, key=len)\n",
    "print(longest_string)\n"
   ]
  },
  {
   "cell_type": "code",
   "execution_count": 110,
   "id": "23b01333-83b5-4784-b17d-33129f47ae13",
   "metadata": {},
   "outputs": [
    {
     "name": "stdout",
     "output_type": "stream",
     "text": [
      "kiwi\n"
     ]
    }
   ],
   "source": [
    "shortest_string = min(strings_list, key=len)\n",
    "print(shortest_string)\n"
   ]
  },
  {
   "cell_type": "code",
   "execution_count": 111,
   "id": "482264dc-3ce9-422e-9e8a-560360095d37",
   "metadata": {},
   "outputs": [
    {
     "name": "stdout",
     "output_type": "stream",
     "text": [
      "[0, 1, 3, 6, 10, 15, 21, 28, 36, 45]\n"
     ]
    }
   ],
   "source": [
    "triangular_numbers = [(i * (i + 1)) // 2 for i in range(10)]\n",
    "print(triangular_numbers)\n"
   ]
  },
  {
   "cell_type": "code",
   "execution_count": 114,
   "id": "caed35b5-815d-4b89-b6d9-ea88595468d0",
   "metadata": {},
   "outputs": [],
   "source": [
    "def is_subsequence(subsequence, sequence):\n",
    "    sub_len = len(subsequence)\n",
    "    return any(subsequence == sequence[i:i + sub_len] for i in range(len(sequence) - sub_len + 1))\n",
    "\n"
   ]
  },
  {
   "cell_type": "code",
   "execution_count": null,
   "id": "7412c59f-178e-46bb-82ca-19c6c4a1f553",
   "metadata": {},
   "outputs": [],
   "source": []
  },
  {
   "cell_type": "code",
   "execution_count": 115,
   "id": "e7bb0854-c918-416e-9755-0e847b89020f",
   "metadata": {},
   "outputs": [
    {
     "name": "stdout",
     "output_type": "stream",
     "text": [
      "(1, 2, 3, 4, 5)\n"
     ]
    }
   ],
   "source": [
    "## tuple based problem 1-50\n",
    "integer_tuple = tuple(range(1, 6))\n",
    "print(integer_tuple)\n",
    "\n"
   ]
  },
  {
   "cell_type": "code",
   "execution_count": 116,
   "id": "d757cd3d-25bc-4f89-9f0a-52dcc41bd6a0",
   "metadata": {},
   "outputs": [
    {
     "name": "stdout",
     "output_type": "stream",
     "text": [
      "3\n"
     ]
    }
   ],
   "source": [
    "third_element = integer_tuple[2]\n",
    "print(third_element)\n"
   ]
  },
  {
   "cell_type": "code",
   "execution_count": 117,
   "id": "709f85c0-2a60-4767-8b15-5fc1dfc8790b",
   "metadata": {},
   "outputs": [
    {
     "name": "stdout",
     "output_type": "stream",
     "text": [
      "5\n"
     ]
    }
   ],
   "source": [
    "def find_length(tup):\n",
    "    count = 0\n",
    "    for _ in tup:\n",
    "        count += 1\n",
    "    return count\n",
    "\n",
    "# Example usage:\n",
    "length = find_length(integer_tuple)\n",
    "print(length)\n"
   ]
  },
  {
   "cell_type": "code",
   "execution_count": 118,
   "id": "29ec87b8-2f5a-423b-ab95-22a597a3ee36",
   "metadata": {},
   "outputs": [
    {
     "name": "stdout",
     "output_type": "stream",
     "text": [
      "1\n"
     ]
    }
   ],
   "source": [
    "element_to_count = 3\n",
    "count = integer_tuple.count(element_to_count)\n",
    "print(count)\n"
   ]
  },
  {
   "cell_type": "code",
   "execution_count": 119,
   "id": "056be88d-24f1-4f59-810f-d757282f8389",
   "metadata": {},
   "outputs": [
    {
     "name": "stdout",
     "output_type": "stream",
     "text": [
      "3\n"
     ]
    }
   ],
   "source": [
    "element_to_find = 4\n",
    "index = integer_tuple.index(element_to_find)\n",
    "print(index)\n"
   ]
  },
  {
   "cell_type": "code",
   "execution_count": 120,
   "id": "9d92265a-9441-4a86-aa31-d5ba71a987a0",
   "metadata": {},
   "outputs": [
    {
     "name": "stdout",
     "output_type": "stream",
     "text": [
      "True\n"
     ]
    }
   ],
   "source": [
    "element_to_check = 2\n",
    "exists = element_to_check in integer_tuple\n",
    "print(exists)\n"
   ]
  },
  {
   "cell_type": "code",
   "execution_count": 121,
   "id": "735ad1c4-85a5-4f0b-ba4c-187efc2dba7a",
   "metadata": {},
   "outputs": [
    {
     "name": "stdout",
     "output_type": "stream",
     "text": [
      "[1, 2, 3, 4, 5]\n"
     ]
    }
   ],
   "source": [
    "tuple_to_list = list(integer_tuple)\n",
    "print(tuple_to_list)\n"
   ]
  },
  {
   "cell_type": "code",
   "execution_count": 122,
   "id": "50648f53-e18f-47cb-ab42-8e01df68f414",
   "metadata": {},
   "outputs": [
    {
     "name": "stdout",
     "output_type": "stream",
     "text": [
      "(1, 2, 3, 4, 5)\n"
     ]
    }
   ],
   "source": [
    "list_to_tuple = tuple(tuple_to_list)\n",
    "print(list_to_tuple)\n"
   ]
  },
  {
   "cell_type": "code",
   "execution_count": 123,
   "id": "38c491bf-74c1-4441-87bf-cea1c5ec73a6",
   "metadata": {},
   "outputs": [
    {
     "name": "stdout",
     "output_type": "stream",
     "text": [
      "1 2 3 4 5\n"
     ]
    }
   ],
   "source": [
    "first, second, third, fourth, fifth = integer_tuple\n",
    "print(first, second, third, fourth, fifth)\n"
   ]
  },
  {
   "cell_type": "code",
   "execution_count": 124,
   "id": "6f564b54-d3d2-4f84-9668-e00d2eed6ab4",
   "metadata": {},
   "outputs": [
    {
     "name": "stdout",
     "output_type": "stream",
     "text": [
      "(2, 4, 6, 8, 10)\n"
     ]
    }
   ],
   "source": [
    "even_numbers_tuple = tuple(x for x in range(2, 11, 2))\n",
    "print(even_numbers_tuple)\n"
   ]
  },
  {
   "cell_type": "code",
   "execution_count": 125,
   "id": "a8f7a7ba-5e45-4482-8665-8f21a9784bc2",
   "metadata": {},
   "outputs": [
    {
     "name": "stdout",
     "output_type": "stream",
     "text": [
      "(1, 3, 5, 7, 9)\n"
     ]
    }
   ],
   "source": [
    "odd_numbers_tuple = tuple(x for x in range(1, 11, 2))\n",
    "print(odd_numbers_tuple)\n"
   ]
  },
  {
   "cell_type": "code",
   "execution_count": 126,
   "id": "986d87ea-d045-4dd0-bf3f-d72870b19b70",
   "metadata": {},
   "outputs": [
    {
     "name": "stdout",
     "output_type": "stream",
     "text": [
      "(1, 2, 3, 4, 5, 6)\n"
     ]
    }
   ],
   "source": [
    "tuple1 = (1, 2, 3)\n",
    "tuple2 = (4, 5, 6)\n",
    "concatenated_tuple = tuple1 + tuple2\n",
    "print(concatenated_tuple)\n"
   ]
  },
  {
   "cell_type": "code",
   "execution_count": 127,
   "id": "71c37707-ba3f-4ed7-87f1-d7a687738974",
   "metadata": {},
   "outputs": [
    {
     "name": "stdout",
     "output_type": "stream",
     "text": [
      "(1, 2, 3, 4, 5, 1, 2, 3, 4, 5, 1, 2, 3, 4, 5)\n"
     ]
    }
   ],
   "source": [
    "repeated_tuple = integer_tuple * 3\n",
    "print(repeated_tuple)\n"
   ]
  },
  {
   "cell_type": "code",
   "execution_count": 128,
   "id": "7a2e862d-8be7-46ee-a8eb-a56e0e0efae4",
   "metadata": {},
   "outputs": [
    {
     "name": "stdout",
     "output_type": "stream",
     "text": [
      "(1, (2, 3), 4)\n"
     ]
    }
   ],
   "source": [
    "nested_tuple = (1, (2, 3), 4)\n",
    "print(nested_tuple)\n"
   ]
  },
  {
   "cell_type": "code",
   "execution_count": 129,
   "id": "177438a4-c761-4e7a-abed-095f26411108",
   "metadata": {},
   "outputs": [
    {
     "name": "stdout",
     "output_type": "stream",
     "text": [
      "1\n"
     ]
    }
   ],
   "source": [
    "first_element_nested = nested_tuple[0]\n",
    "print(first_element_nested)\n"
   ]
  },
  {
   "cell_type": "code",
   "execution_count": 130,
   "id": "86daf8cd-d518-40fb-b86a-accbead2634f",
   "metadata": {},
   "outputs": [
    {
     "name": "stdout",
     "output_type": "stream",
     "text": [
      "(42,)\n"
     ]
    }
   ],
   "source": [
    "single_element_tuple = (42,)\n",
    "print(single_element_tuple)\n"
   ]
  },
  {
   "cell_type": "code",
   "execution_count": 131,
   "id": "fbb3bbd2-705b-4d56-9ab8-a6a1a7f73dcd",
   "metadata": {},
   "outputs": [
    {
     "name": "stdout",
     "output_type": "stream",
     "text": [
      "True\n"
     ]
    }
   ],
   "source": [
    "tuple1 = (1, 2, 3)\n",
    "tuple2 = (1, 2, 3)\n",
    "are_equal = tuple1 == tuple2\n",
    "print(are_equal)\n"
   ]
  },
  {
   "cell_type": "code",
   "execution_count": 132,
   "id": "33355c14-a35b-4128-8ce0-088be1f90b52",
   "metadata": {},
   "outputs": [],
   "source": [
    "del_tuple = (1, 2, 3)\n",
    "del del_tuple\n",
    "# After deletion, attempting to print or access del_tuple will result in an error.\n"
   ]
  },
  {
   "cell_type": "code",
   "execution_count": 133,
   "id": "fad1d180-27d2-48ec-b5c3-ff14188bfd1f",
   "metadata": {},
   "outputs": [
    {
     "name": "stdout",
     "output_type": "stream",
     "text": [
      "(2, 3, 4)\n"
     ]
    }
   ],
   "source": [
    "sliced_tuple = integer_tuple[1:4]\n",
    "print(sliced_tuple)\n"
   ]
  },
  {
   "cell_type": "code",
   "execution_count": 134,
   "id": "d9dccea2-e1ea-4be8-a340-4e2f042e448e",
   "metadata": {},
   "outputs": [
    {
     "name": "stdout",
     "output_type": "stream",
     "text": [
      "5\n"
     ]
    }
   ],
   "source": [
    "max_value = max(integer_tuple)\n",
    "print(max_value)\n"
   ]
  },
  {
   "cell_type": "code",
   "execution_count": 135,
   "id": "646e69e2-3925-411c-961a-7d05f2d686de",
   "metadata": {},
   "outputs": [
    {
     "name": "stdout",
     "output_type": "stream",
     "text": [
      "1\n"
     ]
    }
   ],
   "source": [
    "min_value = min(integer_tuple)\n",
    "print(min_value)\n"
   ]
  },
  {
   "cell_type": "code",
   "execution_count": 136,
   "id": "e6b9fca5-d5b7-4368-9616-8fa38b8fa653",
   "metadata": {},
   "outputs": [
    {
     "name": "stdout",
     "output_type": "stream",
     "text": [
      "('H', 'e', 'l', 'l', 'o')\n"
     ]
    }
   ],
   "source": [
    "string_to_tuple = tuple(\"Hello\")\n",
    "print(string_to_tuple)\n"
   ]
  },
  {
   "cell_type": "code",
   "execution_count": 137,
   "id": "2ba89d96-4603-4673-888a-d3d1f625d354",
   "metadata": {},
   "outputs": [
    {
     "name": "stdout",
     "output_type": "stream",
     "text": [
      "Hello\n"
     ]
    }
   ],
   "source": [
    "tuple_to_string = ''.join(string_to_tuple)\n",
    "print(tuple_to_string)\n"
   ]
  },
  {
   "cell_type": "code",
   "execution_count": 138,
   "id": "5d1b6d5b-508a-41fe-82c7-2889ccbe53f1",
   "metadata": {},
   "outputs": [
    {
     "name": "stdout",
     "output_type": "stream",
     "text": [
      "(1, 'hello', 3.14, True)\n"
     ]
    }
   ],
   "source": [
    "mixed_tuple = (1, 'hello', 3.14, True)\n",
    "print(mixed_tuple)\n"
   ]
  },
  {
   "cell_type": "code",
   "execution_count": 139,
   "id": "67fb03d1-11f5-4b8c-87a6-8d45289c5dda",
   "metadata": {},
   "outputs": [
    {
     "name": "stdout",
     "output_type": "stream",
     "text": [
      "True\n"
     ]
    }
   ],
   "source": [
    "tuple1 = (1, 2, 3)\n",
    "tuple2 = (1, 2, 3)\n",
    "are_identical = tuple1 == tuple2\n",
    "print(are_identical)\n"
   ]
  },
  {
   "cell_type": "code",
   "execution_count": 140,
   "id": "1c359703-f46a-49b4-a0c8-04f4746f0bb8",
   "metadata": {},
   "outputs": [
    {
     "name": "stdout",
     "output_type": "stream",
     "text": [
      "(1, 1, 2, 3, 3, 4, 5, 5, 5, 6, 9)\n"
     ]
    }
   ],
   "source": [
    "unsorted_tuple = (3, 1, 4, 1, 5, 9, 2, 6, 5, 3, 5)\n",
    "sorted_tuple = tuple(sorted(unsorted_tuple))\n",
    "print(sorted_tuple)\n"
   ]
  },
  {
   "cell_type": "code",
   "execution_count": 141,
   "id": "4d2f72b3-1f44-40e0-8eb7-6373454c93ac",
   "metadata": {},
   "outputs": [
    {
     "name": "stdout",
     "output_type": "stream",
     "text": [
      "('1', '2', '3', '4', '5')\n"
     ]
    }
   ],
   "source": [
    "int_tuple = (1, 2, 3, 4, 5)\n",
    "str_tuple = tuple(map(str, int_tuple))\n",
    "print(str_tuple)\n"
   ]
  },
  {
   "cell_type": "code",
   "execution_count": 142,
   "id": "5c9170c6-9b16-4c2f-846b-4c2e081366fd",
   "metadata": {},
   "outputs": [
    {
     "name": "stdout",
     "output_type": "stream",
     "text": [
      "(1, 2, 3, 4, 5)\n"
     ]
    }
   ],
   "source": [
    "str_tuple = ('1', '2', '3', '4', '5')\n",
    "int_tuple = tuple(map(int, str_tuple))\n",
    "print(int_tuple)\n"
   ]
  },
  {
   "cell_type": "code",
   "execution_count": 143,
   "id": "9bc8f610-fa78-434f-b206-2b5b7f1201f8",
   "metadata": {},
   "outputs": [
    {
     "name": "stdout",
     "output_type": "stream",
     "text": [
      "(1, 2, 3, 4, 5, 6)\n"
     ]
    }
   ],
   "source": [
    "tuple1 = (1, 2, 3)\n",
    "tuple2 = (4, 5, 6)\n",
    "merged_tuple = tuple1 + tuple2\n",
    "print(merged_tuple)\n"
   ]
  },
  {
   "cell_type": "code",
   "execution_count": 144,
   "id": "00429d99-e288-4fce-ab52-2e69b127b544",
   "metadata": {},
   "outputs": [
    {
     "ename": "SyntaxError",
     "evalue": "invalid syntax (3530494468.py, line 2)",
     "output_type": "error",
     "traceback": [
      "\u001b[0;36m  Cell \u001b[0;32mIn[144], line 2\u001b[0;36m\u001b[0m\n\u001b[0;31m    flattened_tuple =\u001b[0m\n\u001b[0m                     ^\u001b[0m\n\u001b[0;31mSyntaxError\u001b[0m\u001b[0;31m:\u001b[0m invalid syntax\n"
     ]
    }
   ],
   "source": [
    "nested_tuple = ((1, 2), (3, 4), (5, 6))\n",
    "flattened_tuple =\n"
   ]
  },
  {
   "cell_type": "code",
   "execution_count": 146,
   "id": "7cfc8180-3809-4589-8a9d-dd7b80bba933",
   "metadata": {},
   "outputs": [
    {
     "name": "stdout",
     "output_type": "stream",
     "text": [
      "(1, 2, 3, 4, 5, 6, 7, 8, 9)\n"
     ]
    }
   ],
   "source": [
    "nested_tuple = ((1, 2, 3), (4, 5, 6), (7, 8, 9))\n",
    "flattened_tuple = tuple(item for sublist in nested_tuple for item in sublist)\n",
    "print(flattened_tuple)\n"
   ]
  },
  {
   "cell_type": "code",
   "execution_count": 147,
   "id": "3ea5a0fe-be64-47bc-85f4-97f06447ff1a",
   "metadata": {},
   "outputs": [
    {
     "ename": "TypeError",
     "evalue": "'bool' object is not subscriptable",
     "output_type": "error",
     "traceback": [
      "\u001b[0;31m---------------------------------------------------------------------------\u001b[0m",
      "\u001b[0;31mTypeError\u001b[0m                                 Traceback (most recent call last)",
      "Cell \u001b[0;32mIn[147], line 9\u001b[0m\n\u001b[1;32m      6\u001b[0m             \u001b[38;5;28;01mreturn\u001b[39;00m \u001b[38;5;28;01mFalse\u001b[39;00m\n\u001b[1;32m      7\u001b[0m     \u001b[38;5;28;01mreturn\u001b[39;00m \u001b[38;5;28;01mTrue\u001b[39;00m\n\u001b[0;32m----> 9\u001b[0m prime_numbers_tuple \u001b[38;5;241m=\u001b[39m \u001b[38;5;28;43mtuple\u001b[39;49m\u001b[43m(\u001b[49m\u001b[43mnum\u001b[49m\u001b[43m \u001b[49m\u001b[38;5;28;43;01mfor\u001b[39;49;00m\u001b[43m \u001b[49m\u001b[43mnum\u001b[49m\u001b[43m \u001b[49m\u001b[38;5;129;43;01min\u001b[39;49;00m\u001b[43m \u001b[49m\u001b[38;5;28;43mrange\u001b[39;49m\u001b[43m(\u001b[49m\u001b[38;5;241;43m2\u001b[39;49m\u001b[43m,\u001b[49m\u001b[43m \u001b[49m\u001b[38;5;241;43m20\u001b[39;49m\u001b[43m)\u001b[49m\u001b[43m \u001b[49m\u001b[38;5;28;43;01mif\u001b[39;49;00m\u001b[43m \u001b[49m\u001b[43mis_prime\u001b[49m\u001b[43m(\u001b[49m\u001b[43mnum\u001b[49m\u001b[43m)\u001b[49m\u001b[43m[\u001b[49m\u001b[43m:\u001b[49m\u001b[38;5;241;43m5\u001b[39;49m\u001b[43m]\u001b[49m\u001b[43m)\u001b[49m\n\u001b[1;32m     10\u001b[0m \u001b[38;5;28mprint\u001b[39m(prime_numbers_tuple)\n",
      "Cell \u001b[0;32mIn[147], line 9\u001b[0m, in \u001b[0;36m<genexpr>\u001b[0;34m(.0)\u001b[0m\n\u001b[1;32m      6\u001b[0m             \u001b[38;5;28;01mreturn\u001b[39;00m \u001b[38;5;28;01mFalse\u001b[39;00m\n\u001b[1;32m      7\u001b[0m     \u001b[38;5;28;01mreturn\u001b[39;00m \u001b[38;5;28;01mTrue\u001b[39;00m\n\u001b[0;32m----> 9\u001b[0m prime_numbers_tuple \u001b[38;5;241m=\u001b[39m \u001b[38;5;28mtuple\u001b[39m(num \u001b[38;5;28;01mfor\u001b[39;00m num \u001b[38;5;129;01min\u001b[39;00m \u001b[38;5;28mrange\u001b[39m(\u001b[38;5;241m2\u001b[39m, \u001b[38;5;241m20\u001b[39m) \u001b[38;5;28;01mif\u001b[39;00m \u001b[43mis_prime\u001b[49m\u001b[43m(\u001b[49m\u001b[43mnum\u001b[49m\u001b[43m)\u001b[49m\u001b[43m[\u001b[49m\u001b[43m:\u001b[49m\u001b[38;5;241;43m5\u001b[39;49m\u001b[43m]\u001b[49m)\n\u001b[1;32m     10\u001b[0m \u001b[38;5;28mprint\u001b[39m(prime_numbers_tuple)\n",
      "\u001b[0;31mTypeError\u001b[0m: 'bool' object is not subscriptable"
     ]
    }
   ],
   "source": [
    "def is_prime(num):\n",
    "    if num < 2:\n",
    "        return False\n",
    "    for i in range(2, int(num**0.5) + 1):\n",
    "        if num % i == 0:\n",
    "            return False\n",
    "    return True\n",
    "\n",
    "prime_numbers_tuple = tuple(num for num in range(2, 20) if is_prime(num)[:5])\n",
    "print(prime_numbers_tuple)\n"
   ]
  },
  {
   "cell_type": "code",
   "execution_count": 148,
   "id": "eef54497-0de1-4ccc-a502-236d9b7a2ad7",
   "metadata": {},
   "outputs": [
    {
     "name": "stdout",
     "output_type": "stream",
     "text": [
      "True\n"
     ]
    }
   ],
   "source": [
    "def is_palindrome(tup):\n",
    "    return tup == tup[::-1]\n",
    "\n",
    "palindrome_tuple = (1, 2, 3, 2, 1)\n",
    "result = is_palindrome(palindrome_tuple)\n",
    "print(result)\n"
   ]
  },
  {
   "cell_type": "code",
   "execution_count": 149,
   "id": "5489ef06-dad7-40aa-8106-76c71d394960",
   "metadata": {},
   "outputs": [
    {
     "name": "stdout",
     "output_type": "stream",
     "text": [
      "(1, 4, 9, 16, 25)\n"
     ]
    }
   ],
   "source": [
    "squares_tuple = tuple(x**2 for x in range(1, 6))\n",
    "print(squares_tuple)\n"
   ]
  },
  {
   "cell_type": "code",
   "execution_count": 150,
   "id": "24b40042-a879-478d-aefe-246ef2716c2e",
   "metadata": {},
   "outputs": [
    {
     "name": "stdout",
     "output_type": "stream",
     "text": [
      "(1, 3, 5, 7, 9)\n"
     ]
    }
   ],
   "source": [
    "original_tuple = (1, 2, 3, 4, 5, 6, 7, 8, 9, 10)\n",
    "filtered_tuple = tuple(x for x in original_tuple if x % 2 != 0)\n",
    "print(filtered_tuple)\n"
   ]
  },
  {
   "cell_type": "code",
   "execution_count": 151,
   "id": "86de8f04-c7c6-4916-aa16-77f01f5f6b2c",
   "metadata": {},
   "outputs": [
    {
     "name": "stdout",
     "output_type": "stream",
     "text": [
      "(2, 4, 6, 8, 10, 12, 14, 16, 18, 20)\n"
     ]
    }
   ],
   "source": [
    "multiplied_tuple = tuple(x * 2 for x in original_tuple)\n",
    "print(multiplied_tuple)\n"
   ]
  },
  {
   "cell_type": "code",
   "execution_count": 152,
   "id": "fccd7f8d-66be-4a36-b2f9-256a767331fa",
   "metadata": {},
   "outputs": [
    {
     "name": "stdout",
     "output_type": "stream",
     "text": [
      "(12, 60, 80, 35, 27)\n"
     ]
    }
   ],
   "source": [
    "import random\n",
    "\n",
    "random_numbers_tuple = tuple(random.randint(1, 100) for _ in range(5))\n",
    "print(random_numbers_tuple)\n"
   ]
  },
  {
   "cell_type": "code",
   "execution_count": 153,
   "id": "9eaf82b0-ab46-4752-8964-2be7a71bd6ed",
   "metadata": {},
   "outputs": [
    {
     "name": "stdout",
     "output_type": "stream",
     "text": [
      "True\n",
      "False\n"
     ]
    }
   ],
   "source": [
    "def is_sorted_tuple(tup):\n",
    "    return all(tup[i] <= tup[i + 1] for i in range(len(tup) - 1))\n",
    "\n",
    "# Example usage:\n",
    "sorted_tuple = (1, 2, 3, 4, 5)\n",
    "unsorted_tuple = (3, 1, 4, 2, 5)\n",
    "print(is_sorted_tuple(sorted_tuple))  # True\n",
    "print(is_sorted_tuple(unsorted_tuple))  # False\n"
   ]
  },
  {
   "cell_type": "code",
   "execution_count": 154,
   "id": "4ba8f9e6-b0b0-4110-a5a9-11082f89b032",
   "metadata": {},
   "outputs": [
    {
     "name": "stdout",
     "output_type": "stream",
     "text": [
      "(3, 4, 5, 1, 2)\n"
     ]
    }
   ],
   "source": [
    "def rotate_left_tuple(tup, n):\n",
    "    n = n % len(tup)\n",
    "    return tup[n:] + tup[:n]\n",
    "\n",
    "# Example usage:\n",
    "original_tuple = (1, 2, 3, 4, 5)\n",
    "rotated_tuple_left = rotate_left_tuple(original_tuple, 2)\n",
    "print(rotated_tuple_left)\n"
   ]
  },
  {
   "cell_type": "code",
   "execution_count": 155,
   "id": "ed6a58ec-ce21-49c9-96ef-a08084e8d901",
   "metadata": {},
   "outputs": [
    {
     "name": "stdout",
     "output_type": "stream",
     "text": [
      "(4, 5, 1, 2, 3)\n"
     ]
    }
   ],
   "source": [
    "def rotate_right_tuple(tup, n):\n",
    "    n = n % len(tup)\n",
    "    return tup[-n:] + tup[:-n]\n",
    "\n",
    "# Example usage:\n",
    "original_tuple = (1, 2, 3, 4, 5)\n",
    "rotated_tuple_right = rotate_right_tuple(original_tuple, 2)\n",
    "print(rotated_tuple_right)\n"
   ]
  },
  {
   "cell_type": "code",
   "execution_count": 161,
   "id": "0faa2964-75b9-48b7-8454-f73b5f8660e4",
   "metadata": {},
   "outputs": [
    {
     "name": "stdout",
     "output_type": "stream",
     "text": [
      "Fibonacci Tuple: (0, 1, 1, 2, 3)\n"
     ]
    }
   ],
   "source": [
    "fibonacci_tuple = (0, 1, 1, 2, 3)\n",
    "print(\"Fibonacci Tuple:\", fibonacci_tuple)\n"
   ]
  },
  {
   "cell_type": "code",
   "execution_count": 163,
   "id": "6875f678-ee5c-4493-8826-cc96bcb09274",
   "metadata": {},
   "outputs": [
    {
     "name": "stdin",
     "output_type": "stream",
     "text": [
      "Enter elements separated by spaces:  9 6 4 78 \n"
     ]
    },
    {
     "name": "stdout",
     "output_type": "stream",
     "text": [
      "User Input Tuple: (9, 6, 4, 78)\n"
     ]
    }
   ],
   "source": [
    "user_input_tuple = tuple(map(int, input(\"Enter elements separated by spaces: \").split()))\n",
    "print(\"User Input Tuple:\", user_input_tuple)\n"
   ]
  },
  {
   "cell_type": "code",
   "execution_count": 164,
   "id": "1860f001-276a-4e8b-a252-9a8168f5b37f",
   "metadata": {},
   "outputs": [
    {
     "name": "stdout",
     "output_type": "stream",
     "text": [
      "Swapped Tuple: (1, 4, 3, 2, 5)\n"
     ]
    }
   ],
   "source": [
    "def swap_elements(tup, i, j):\n",
    "    tup_list = list(tup)\n",
    "    tup_list[i], tup_list[j] = tup_list[j], tup_list[i]\n",
    "    return tuple(tup_list)\n",
    "\n",
    "original_tuple = (1, 2, 3, 4, 5)\n",
    "swapped_tuple = swap_elements(original_tuple, 1, 3)\n",
    "print(\"Swapped Tuple:\", swapped_tuple)\n"
   ]
  },
  {
   "cell_type": "code",
   "execution_count": 165,
   "id": "0346a901-807b-40d6-a8c0-2da49cf6310f",
   "metadata": {},
   "outputs": [
    {
     "name": "stdout",
     "output_type": "stream",
     "text": [
      "Reversed Tuple: (5, 4, 3, 2, 1)\n"
     ]
    }
   ],
   "source": [
    "original_tuple = (1, 2, 3, 4, 5)\n",
    "reversed_tuple = tuple(reversed(original_tuple))\n",
    "print(\"Reversed Tuple:\", reversed_tuple)\n"
   ]
  },
  {
   "cell_type": "code",
   "execution_count": 166,
   "id": "3301fe93-ed2b-4c9c-a98d-152eac46d19c",
   "metadata": {},
   "outputs": [
    {
     "name": "stdout",
     "output_type": "stream",
     "text": [
      "Powers of 2 Tuple: (1, 2, 4, 8, 16)\n"
     ]
    }
   ],
   "source": [
    "n = 5\n",
    "powers_of_2_tuple = tuple(2 ** i for i in range(n))\n",
    "print(\"Powers of 2 Tuple:\", powers_of_2_tuple)\n"
   ]
  },
  {
   "cell_type": "code",
   "execution_count": 167,
   "id": "e5dbe808-f026-4966-93ce-8075fdbed3d7",
   "metadata": {},
   "outputs": [
    {
     "name": "stdout",
     "output_type": "stream",
     "text": [
      "Longest String: banana\n"
     ]
    }
   ],
   "source": [
    "string_tuple = ('apple', 'banana', 'kiwi', 'orange')\n",
    "longest_string = max(string_tuple, key=len)\n",
    "print(\"Longest String:\", longest_string)\n"
   ]
  },
  {
   "cell_type": "code",
   "execution_count": 168,
   "id": "532c0bec-4421-4883-b512-546c5cef1030",
   "metadata": {},
   "outputs": [
    {
     "name": "stdout",
     "output_type": "stream",
     "text": [
      "Shortest String: kiwi\n"
     ]
    }
   ],
   "source": [
    "string_tuple = ('apple', 'banana', 'kiwi', 'orange')\n",
    "shortest_string = min(string_tuple, key=len)\n",
    "print(\"Shortest String:\", shortest_string)\n"
   ]
  },
  {
   "cell_type": "code",
   "execution_count": 169,
   "id": "0dd00e12-3fc9-48ca-a9a3-e4799360e169",
   "metadata": {},
   "outputs": [
    {
     "name": "stdout",
     "output_type": "stream",
     "text": [
      "Triangular Numbers Tuple: (0, 1, 3, 6, 10)\n"
     ]
    }
   ],
   "source": [
    "n = 5\n",
    "triangular_numbers_tuple = tuple((i * (i + 1)) // 2 for i in range(n))\n",
    "print(\"Triangular Numbers Tuple:\", triangular_numbers_tuple)\n"
   ]
  },
  {
   "cell_type": "code",
   "execution_count": 170,
   "id": "1b1ec7ed-af0b-4b63-a26e-41bc35bb4a7e",
   "metadata": {},
   "outputs": [
    {
     "name": "stdout",
     "output_type": "stream",
     "text": [
      "Is Subsequence: True\n"
     ]
    }
   ],
   "source": [
    "tuple_a = (1, 2, 3, 4, 5)\n",
    "tuple_b = (3, 4)\n",
    "is_subsequence = all(x in tuple_a for x in tuple_b)\n",
    "print(\"Is Subsequence:\", is_subsequence)\n"
   ]
  },
  {
   "cell_type": "code",
   "execution_count": 171,
   "id": "4b841d85-a12d-4cf9-ba93-87afa1a8cdd0",
   "metadata": {},
   "outputs": [
    {
     "name": "stdout",
     "output_type": "stream",
     "text": [
      "Alternating Tuple: (0, 1, 0, 1, 0, 1, 0, 1)\n"
     ]
    }
   ],
   "source": [
    "n = 8\n",
    "alternating_tuple = tuple(i % 2 for i in range(n))\n",
    "print(\"Alternating Tuple:\", alternating_tuple)\n"
   ]
  },
  {
   "cell_type": "code",
   "execution_count": 176,
   "id": "bb086bfd-6476-432b-bd89-8b46c531ad55",
   "metadata": {},
   "outputs": [
    {
     "name": "stdout",
     "output_type": "stream",
     "text": [
      "Set with integers from 1 to 5: {1, 2, 3, 4, 5}\n"
     ]
    }
   ],
   "source": [
    "## set question 1-50\n",
    "set_one_to_five = {1, 2, 3, 4, 5}\n",
    "print(\"Set with integers from 1 to 5:\", set_one_to_five)\n",
    "\n"
   ]
  },
  {
   "cell_type": "code",
   "execution_count": 177,
   "id": "3116f234-d0d1-42ea-8d92-cae328dedb51",
   "metadata": {},
   "outputs": [
    {
     "name": "stdout",
     "output_type": "stream",
     "text": [
      "Set after adding an element: {1, 2, 3, 4, 5, 6}\n"
     ]
    }
   ],
   "source": [
    "set_one_to_five.add(6)\n",
    "print(\"Set after adding an element:\", set_one_to_five)\n"
   ]
  },
  {
   "cell_type": "code",
   "execution_count": 180,
   "id": "03e41db0-db42-4a21-85b6-e806faf51469",
   "metadata": {},
   "outputs": [
    {
     "name": "stdout",
     "output_type": "stream",
     "text": [
      "Set after removing an element: {1, 2, 4, 5, 6}\n"
     ]
    }
   ],
   "source": [
    "# 3. Remove an element from a set.\n",
    "set_one_to_five.remove(3)\n",
    "print(\"Set after removing an element:\", set_one_to_five)\n"
   ]
  },
  {
   "cell_type": "code",
   "execution_count": null,
   "id": "6c627762-e8e9-4cbf-9d2d-413a3ab3cb54",
   "metadata": {},
   "outputs": [],
   "source": [
    "# 1. Create a set with integers from 1 to 5.\n",
    "set_one_to_five = {1, 2, 3, 4, 5}\n",
    "print(\"Set with integers from 1 to 5:\", set_one_to_five)\n",
    "\n",
    "# 2. Add an element to a set.\n",
    "set_one_to_five.add(6)\n",
    "print(\"Set after adding an element:\", set_one_to_five)\n",
    "\n",
    "# 3. Remove an element from a set.\n",
    "set_one_to_five.remove(3)\n",
    "print(\"Set after removing an element:\", set_one_to_five)\n",
    "\n",
    "# 4. Check if an element exists in a set.\n",
    "element_exists = 4 in set_one_to_five\n",
    "print(\"Does 4 exist in the set?\", element_exists)\n",
    "\n",
    "# 5. Find the length of a set without using the `len()` function.\n",
    "set_length = sum(1 for _ in set_one_to_five)\n",
    "print(\"Length of the set:\", set_length)\n",
    "\n",
    "# 6. Clear all elements from a set.\n",
    "set_one_to_five.clear()\n",
    "print(\"Set after clearing all elements:\", set_one_to_five)\n",
    "\n",
    "# 7. Create a set of even numbers from 1 to 10.\n",
    "even_numbers_set = set(range(2, 11, 2))\n",
    "print(\"Set of even numbers:\", even_numbers_set)\n",
    "\n",
    "# 8. Create a set of odd numbers from 1 to 10.\n",
    "odd_numbers_set = set(range(1, 11, 2))\n",
    "print(\"Set of odd numbers:\", odd_numbers_set)\n",
    "\n",
    "# 9. Find the union of two sets.\n",
    "union_set = even_numbers_set.union(odd_numbers_set)\n",
    "print(\"Union of two sets:\", union_set)\n",
    "\n",
    "# 10. Find the intersection of two sets.\n",
    "intersection_set = even_numbers_set.intersection(odd_numbers_set)\n",
    "print(\"Intersection of two sets:\", intersection_set)\n",
    "\n",
    "# 11. Find the difference between two sets.\n",
    "difference_set = even_numbers_set.difference(odd_numbers_set)\n",
    "print(\"Difference between two sets:\", difference_set)\n",
    "\n",
    "# 12. Check if a set is a subset of another set.\n",
    "is_subset = even_numbers_set.issubset(union_set)\n",
    "print(\"Is the set of even numbers a subset of the union set?\", is_subset)\n",
    "\n",
    "# 13. Check if a set is a superset of another set.\n",
    "is_superset = union_set.issuperset(even_numbers_set)\n",
    "print(\"Is the union set a superset of the set of even numbers?\", is_superset)\n",
    "\n",
    "# 14. Create a set from a list.\n",
    "list_to_set = set([1, 2, 3, 4, 5])\n",
    "print(\"Set from a list:\", list_to_set)\n",
    "\n",
    "# 15. Convert a set to a list.\n",
    "set_to_list = list(set_one_to_five)\n",
    "print(\"List from a set:\", set_to_list)\n",
    "\n",
    "# 16. Remove a random element from a set.\n",
    "import random\n",
    "random_element = set_one_to_five.pop()\n",
    "print(\"Set after removing a random element:\", set_one_to_five)\n",
    "\n",
    "# 17. Pop an element from a set.\n",
    "popped_element = even_numbers_set.pop()\n",
    "print(\"Set after popping an element:\", even_numbers_set)\n",
    "\n",
    "# 18. Check if two sets have no elements in common.\n",
    "no_common_elements = even_numbers_set.isdisjoint(odd_numbers_set)\n",
    "print(\"Do the sets have no elements in common?\", no_common_elements)\n",
    "\n",
    "# 19. Find the symmetric difference between two sets.\n",
    "symmetric_difference_set = even_numbers_set.symmetric_difference(odd_numbers_set)\n",
    "print(\"Symmetric difference between two sets:\", symmetric_difference_set)\n",
    "\n",
    "# 20. Update a set with elements from another set.\n",
    "even_numbers_set.update(odd_numbers_set)\n",
    "print(\"Updated set with elements from another set:\", even_numbers_set)\n",
    "\n",
    "# 21. Create a set of the first 5 prime numbers.\n",
    "prime_numbers_set = {2, 3, 5, 7, 11}\n",
    "print(\"Set of the first 5 prime numbers:\", prime_numbers_set)\n",
    "\n",
    "# 22. Check if two sets are identical.\n",
    "are_identical = even_numbers_set == odd_numbers_set\n",
    "print(\"Are the two sets identical?\", are_identical)\n",
    "\n",
    "# 23. Create a frozen set.\n",
    "frozen_set = frozenset([1, 2, 3, 4, 5])\n",
    "print(\"Frozen set:\", frozen_set)\n",
    "\n",
    "# 24. Check if a set is disjoint with another set.\n",
    "is_disjoint = even_numbers_set.isdisjoint(prime_numbers_set)\n",
    "print(\"Is the set of even numbers disjoint with the set of prime numbers?\", is_disjoint)\n",
    "\n",
    "# 25. Create a set of squares of numbers from 1 to 5.\n",
    "squares_set = {x**2 for x in range(1, 6)}\n",
    "print(\"Set of squares of numbers from 1 to 5:\", squares_set)\n",
    "\n",
    "# 26. Filter out all even numbers from a set.\n",
    "filtered_set = {x for x in squares_set if x % 2 != 0}\n",
    "print(\"Set after filtering out even numbers:\", filtered_set)\n",
    "\n",
    "# 27. Multiply all elements in a set by 2.\n",
    "multiplied_set = {x * 2 for x in filtered_set}\n",
    "print(\"Set after multiplying all elements by 2:\", multiplied_set)\n",
    "\n",
    "# 28. Create a set of random numbers.\n",
    "import random\n",
    "random_set = {random.randint(1, 10) for _ in range(5)}\n",
    "print(\"Set of random numbers:\", random_set)\n",
    "\n",
    "# 29. Check if a set is empty.\n",
    "is_empty = not bool(set_one_to_five)\n",
    "print(\"Is the set empty?\", is_empty)\n",
    "\n",
    "# 30. Create a nested set (hint: use frozenset).\n",
    "nested_set = {frozenset({1, 2}), frozenset({3, 4})}\n",
    "print(\"Nested set:\", nested_set)\n",
    "\n",
    "# 31. Remove an element from a set using the discard method.\n",
    "set_one_to_five.discard(4)\n",
    "print(\"Set after removing an element using discard:\", set_one_to_five)\n",
    "\n",
    "# 32. Compare two sets.\n",
    "are_equal = set_one_to_five == list_to_set\n",
    "print(\"Are the two sets equal?\", are_equal)\n",
    "\n",
    "# 33. Create a set from a string.\n",
    "string_set = set(\"hello\")\n",
    "print(\"Set from a string:\", string_set)\n",
    "\n",
    "# 34. Convert a set of strings to a set of integers.\n",
    "set_of_strings = {'1', '2', '3', '4', '5'}\n",
    "set_of_integers = {int(x) for x in set_of_strings}\n",
    "print(\"Set of integers from a set of strings:\", set_of_integers)\n",
    "\n",
    "# 35. Convert a set of integers to a set of strings.\n",
    "set_of_strings = {str(x) for x in set_of_integers}\n",
    "print(\"Set of strings from a set of integers:\", set_of_strings)\n",
    "\n",
    "# 36. Create a set from a tuple.\n",
    "tuple_set = set((1, 2, 3, 4, 5))\n",
    "print(\"Set from a tuple:\", tuple_set)\n",
    "\n",
    "# 37. Convert a set to a tuple.\n",
    "set_to_tuple = tuple(set_one_to_five)\n",
    "print(\"Tuple from a set:\", set_to_tuple)\n",
    "\n",
    "# 38. Find the maximum value in a set.\n",
    "max_value = max(set_of_integers)\n",
    "print(\"Maximum value in the set:\", max_value\n"
   ]
  }
 ],
 "metadata": {
  "kernelspec": {
   "display_name": "Python 3 (ipykernel)",
   "language": "python",
   "name": "python3"
  },
  "language_info": {
   "codemirror_mode": {
    "name": "ipython",
    "version": 3
   },
   "file_extension": ".py",
   "mimetype": "text/x-python",
   "name": "python",
   "nbconvert_exporter": "python",
   "pygments_lexer": "ipython3",
   "version": "3.10.8"
  }
 },
 "nbformat": 4,
 "nbformat_minor": 5
}
